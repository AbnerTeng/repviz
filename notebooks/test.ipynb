{
 "cells": [
  {
   "cell_type": "code",
   "execution_count": 13,
   "metadata": {},
   "outputs": [],
   "source": [
    "from typing import Tuple\n",
    "import sys\n",
    "\n",
    "sys.path.append(\"..\")\n",
    "\n",
    "import numpy as np\n",
    "import torch\n",
    "import seaborn as sns\n",
    "from torch import nn\n",
    "from torch import optim\n",
    "from torch.utils.data import Dataset, DataLoader\n",
    "from tqdm import tqdm\n",
    "from sklearn.datasets import fetch_covtype\n",
    "from sklearn.model_selection import train_test_split\n",
    "from sklearn.preprocessing import MinMaxScaler\n",
    "\n",
    "from src.hooks import HookManager\n",
    "from src.model.ffn import FFN\n",
    "from src.utils import list_child_modules\n",
    "\n",
    "\n",
    "class SampleDataset(Dataset):\n",
    "    def __init__(self, features: np.ndarray, label: np.ndarray) -> None:\n",
    "        super().__init__()\n",
    "        self.features = features\n",
    "        self.label = label\n",
    "        self._scaler()\n",
    "\n",
    "    def _scaler(self) -> None:\n",
    "        mm = MinMaxScaler()\n",
    "        self.features = mm.fit_transform(self.features)\n",
    "\n",
    "    def __len__(self) -> int:\n",
    "        return self.features.shape[0]\n",
    "\n",
    "    def __getitem__(self, idx: int) -> Tuple[np.ndarray, np.ndarray]:\n",
    "        return (self.features[idx, :], self.label[idx] - 1)"
   ]
  },
  {
   "cell_type": "code",
   "execution_count": 14,
   "metadata": {},
   "outputs": [],
   "source": [
    "cov_type = fetch_covtype(data_home=\"../covertype\")\n",
    "X_train, X_test, y_train, y_test = train_test_split(\n",
    "    cov_type.data, cov_type.target, test_size=0.2, random_state=42\n",
    ")\n",
    "train_dataset = SampleDataset(X_train, y_train)\n",
    "test_dataset = SampleDataset(X_test, y_test)\n",
    "train_loader = DataLoader(train_dataset, batch_size=64, shuffle=True)\n",
    "test_loader = DataLoader(test_dataset, batch_size=1, shuffle=False)"
   ]
  },
  {
   "cell_type": "code",
   "execution_count": 3,
   "metadata": {},
   "outputs": [],
   "source": [
    "model = FFN(X_train.shape[1], len(set(y_train)))"
   ]
  },
  {
   "cell_type": "code",
   "execution_count": null,
   "metadata": {},
   "outputs": [],
   "source": [
    "print(\"training...\")\n",
    "\n",
    "n_epochs = 1\n",
    "optimizer = optim.AdamW(model.parameters(), lr=1e-3)\n",
    "criterion = nn.CrossEntropyLoss()\n",
    "\n",
    "for epoch in tqdm(range(n_epochs)):\n",
    "    epoch_loss = 0\n",
    "    model.train()\n",
    "    for tr_x, tr_y in train_loader:\n",
    "        tr_x, tr_y = (\n",
    "            torch.tensor(tr_x, dtype=torch.float32),\n",
    "            torch.tensor(tr_y, dtype=torch.long),\n",
    "        )\n",
    "        pred_tr_y = model(tr_x)\n",
    "        loss = criterion(pred_tr_y, tr_y)\n",
    "        loss.backward()\n",
    "        optimizer.step()\n",
    "        optimizer.zero_grad()\n",
    "\n",
    "        epoch_loss += loss.item()\n",
    "\n",
    "    print(f\"Epoch: {epoch + 1} | Loss: {epoch_loss / len(train_loader)}\")"
   ]
  },
  {
   "cell_type": "code",
   "execution_count": 4,
   "metadata": {},
   "outputs": [
    {
     "name": "stdout",
     "output_type": "stream",
     "text": [
      "ffn.0 LayerNorm((54,), eps=1e-05, elementwise_affine=True)\n",
      "ffn.1 Dropout(p=0.1, inplace=False)\n",
      "ffn.2 Linear(in_features=54, out_features=512, bias=True)\n",
      "ffn.3 ReLU()\n",
      "ffn.4 LayerNorm((512,), eps=1e-05, elementwise_affine=True)\n",
      "ffn.5 Dropout(p=0.1, inplace=False)\n",
      "ffn.6 Linear(in_features=512, out_features=512, bias=True)\n",
      "ffn.7 ReLU()\n",
      "ffn.8 LayerNorm((512,), eps=1e-05, elementwise_affine=True)\n",
      "ffn.9 Dropout(p=0.1, inplace=False)\n",
      "ffn.10 Linear(in_features=512, out_features=7, bias=True)\n",
      "ffn.11 Softmax(dim=1)\n"
     ]
    }
   ],
   "source": [
    "list_child_modules(model)"
   ]
  },
  {
   "cell_type": "code",
   "execution_count": 9,
   "metadata": {},
   "outputs": [],
   "source": [
    "torch.save(\n",
    "    model.state_dict(),\n",
    "    \"../model/ffn_covtype.pth\",\n",
    ")"
   ]
  },
  {
   "cell_type": "code",
   "execution_count": 4,
   "metadata": {},
   "outputs": [
    {
     "data": {
      "text/plain": [
       "<All keys matched successfully>"
      ]
     },
     "execution_count": 4,
     "metadata": {},
     "output_type": "execute_result"
    }
   ],
   "source": [
    "model.load_state_dict(\n",
    "    torch.load(\n",
    "        \"../model/ffn_covtype.pth\",\n",
    "        map_location=torch.device(\"cpu\"),\n",
    "        weights_only=True,\n",
    "    )\n",
    ")"
   ]
  },
  {
   "cell_type": "code",
   "execution_count": null,
   "metadata": {},
   "outputs": [
    {
     "name": "stdout",
     "output_type": "stream",
     "text": [
      "testing...\n"
     ]
    },
    {
     "name": "stderr",
     "output_type": "stream",
     "text": [
      "/var/folders/5p/5d5cjs1n0sd8dhmpcjd35h0r0000gn/T/ipykernel_17687/1359222154.py:8: UserWarning: To copy construct from a tensor, it is recommended to use sourceTensor.clone().detach() or sourceTensor.clone().detach().requires_grad_(True), rather than torch.tensor(sourceTensor).\n",
      "  ts_x = torch.tensor(ts_x, dtype=torch.float32)\n",
      "/var/folders/5p/5d5cjs1n0sd8dhmpcjd35h0r0000gn/T/ipykernel_17687/1359222154.py:9: UserWarning: To copy construct from a tensor, it is recommended to use sourceTensor.clone().detach() or sourceTensor.clone().detach().requires_grad_(True), rather than torch.tensor(sourceTensor).\n",
      "  ts_y = torch.tensor(ts_y, dtype=torch.long)\n"
     ]
    }
   ],
   "source": [
    "print(\"testing...\")\n",
    "model.eval()\n",
    "hook_mgr = HookManager()\n",
    "hook_mgr.register_hooks(model, partial_matches=None)\n",
    "\n",
    "with torch.no_grad():\n",
    "    for ts_x, ts_y in test_loader:\n",
    "        ts_x = torch.tensor(ts_x, dtype=torch.float32)\n",
    "        ts_y = torch.tensor(ts_y, dtype=torch.long)\n",
    "        pred_y_test = model(ts_x)\n",
    "        break\n",
    "\n",
    "activations = hook_mgr.get_activations()"
   ]
  },
  {
   "cell_type": "code",
   "execution_count": 12,
   "metadata": {},
   "outputs": [
    {
     "data": {
      "text/plain": [
       "dict"
      ]
     },
     "execution_count": 12,
     "metadata": {},
     "output_type": "execute_result"
    }
   ],
   "source": [
    "type(activations)"
   ]
  },
  {
   "cell_type": "code",
   "execution_count": 11,
   "metadata": {},
   "outputs": [
    {
     "data": {
      "text/plain": [
       "<Axes: ylabel='Density'>"
      ]
     },
     "execution_count": 11,
     "metadata": {},
     "output_type": "execute_result"
    },
    {
     "data": {
      "image/png": "[encoded data removed]",
      "text/plain": [
       "<Figure size 640x480 with 1 Axes>"
      ]
     },
     "metadata": {},
     "output_type": "display_data"
    }
   ],
   "source": [
    "sns.set_style(\"whitegrid\")\n",
    "sns.set_palette(\"deep\")\n",
    "sns.set_context(\"notebook\")\n",
    "\n",
    "sns.kdeplot(\n",
    "    {\n",
    "        \"3\": activations[\"ffn.3\"].cpu().numpy()[0],\n",
    "        \"4\": activations[\"ffn.4\"].cpu().numpy()[0],\n",
    "    },\n",
    "    common_norm=False,\n",
    "    fill=True,\n",
    ")\n",
    "# import matplotlib.pyplot as plt\n",
    "\n",
    "# plt.figure(figsize=(10, 5))\n",
    "# plt.style.use(\"default\")\n",
    "# plt.scatter(\n",
    "#     activations[\"ffn.2\"].cpu().numpy()[0], activations[\"ffn.3\"].cpu().numpy()[0]\n",
    "# )"
   ]
  },
  {
   "cell_type": "code",
   "execution_count": 23,
   "metadata": {},
   "outputs": [
    {
     "name": "stdout",
     "output_type": "stream",
     "text": [
      "\n",
      " Stats for ffn.0:\n",
      "  mean: -0.0000\n",
      "  std: 0.9999\n",
      "  min: -0.4964\n",
      "  max: 2.8709\n",
      "  sparsity: 0.0000\n",
      "  skewness: 1.8082\n",
      "  kurtosis: 1.8572\n",
      "\n",
      " Stats for ffn.1:\n",
      "  mean: -0.0000\n",
      "  std: 0.9999\n",
      "  min: -0.4964\n",
      "  max: 2.8709\n",
      "  sparsity: 0.0000\n",
      "  skewness: 1.8082\n",
      "  kurtosis: 1.8572\n",
      "\n",
      " Stats for ffn.2:\n",
      "  mean: 0.0370\n",
      "  std: 0.5705\n",
      "  min: -1.6625\n",
      "  max: 1.6281\n",
      "  sparsity: 0.0000\n",
      "  skewness: -0.1414\n",
      "  kurtosis: 0.0666\n",
      "\n",
      " Stats for ffn.3:\n",
      "  mean: 0.2477\n",
      "  std: 0.3375\n",
      "  min: 0.0000\n",
      "  max: 1.6281\n",
      "  sparsity: 0.4785\n",
      "  skewness: 1.4276\n",
      "  kurtosis: 1.5131\n",
      "\n",
      " Stats for ffn.4:\n",
      "  mean: -0.0000\n",
      "  std: 1.0000\n",
      "  min: -0.7339\n",
      "  max: 4.0894\n",
      "  sparsity: 0.0000\n",
      "  skewness: 1.4276\n",
      "  kurtosis: 1.5131\n",
      "\n",
      " Stats for ffn.5:\n",
      "  mean: -0.0000\n",
      "  std: 1.0000\n",
      "  min: -0.7339\n",
      "  max: 4.0894\n",
      "  sparsity: 0.0000\n",
      "  skewness: 1.4276\n",
      "  kurtosis: 1.5131\n",
      "\n",
      " Stats for ffn.6:\n",
      "  mean: 0.0122\n",
      "  std: 0.5600\n",
      "  min: -2.0368\n",
      "  max: 1.8667\n",
      "  sparsity: 0.0000\n",
      "  skewness: -0.1611\n",
      "  kurtosis: 0.5732\n",
      "\n",
      " Stats for ffn.7:\n",
      "  mean: 0.2250\n",
      "  std: 0.3244\n",
      "  min: 0.0000\n",
      "  max: 1.8667\n",
      "  sparsity: 0.4824\n",
      "  skewness: 1.7361\n",
      "  kurtosis: 3.1161\n",
      "\n",
      " Stats for ffn.8:\n",
      "  mean: 0.0000\n",
      "  std: 1.0000\n",
      "  min: -0.6934\n",
      "  max: 5.0600\n",
      "  sparsity: 0.0000\n",
      "  skewness: 1.7361\n",
      "  kurtosis: 3.1161\n",
      "\n",
      " Stats for ffn.9:\n",
      "  mean: 0.0000\n",
      "  std: 1.0000\n",
      "  min: -0.6934\n",
      "  max: 5.0600\n",
      "  sparsity: 0.0000\n",
      "  skewness: 1.7361\n",
      "  kurtosis: 3.1161\n",
      "\n",
      " Stats for ffn.10:\n",
      "  mean: 0.2338\n",
      "  std: 0.5691\n",
      "  min: -0.5581\n",
      "  max: 1.1983\n",
      "  sparsity: 0.0000\n",
      "  skewness: 0.3968\n",
      "  kurtosis: -1.0707\n",
      "\n",
      " Stats for ffn.11:\n",
      "  mean: 0.1429\n",
      "  std: 0.0869\n",
      "  min: 0.0547\n",
      "  max: 0.3167\n",
      "  sparsity: 0.0000\n",
      "  skewness: 0.9717\n",
      "  kurtosis: -0.4171\n"
     ]
    }
   ],
   "source": [
    "from src.statistics import print_summary\n",
    "\n",
    "for k, v in activations.items():\n",
    "    print_summary(k, v)"
   ]
  }
 ],
 "metadata": {
  "kernelspec": {
   "display_name": "neural-layer-analysis",
   "language": "python",
   "name": "python3"
  },
  "language_info": {
   "codemirror_mode": {
    "name": "ipython",
    "version": 3
   },
   "file_extension": ".py",
   "mimetype": "text/x-python",
   "name": "python",
   "nbconvert_exporter": "python",
   "pygments_lexer": "ipython3",
   "version": "3.11.11"
  }
 },
 "nbformat": 4,
 "nbformat_minor": 2
}

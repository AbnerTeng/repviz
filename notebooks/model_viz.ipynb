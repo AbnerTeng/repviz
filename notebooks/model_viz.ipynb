{
 "cells": [
  {
   "cell_type": "code",
   "execution_count": 27,
   "id": "7ad64b8c",
   "metadata": {},
   "outputs": [],
   "source": [
    "import torch\n",
    "import torch.nn as nn\n",
    "import torch.fx as fx\n",
    "import hashlib\n",
    "from collections import defaultdict\n",
    "\n",
    "\n",
    "def hash_group(node_inputs):\n",
    "    \"\"\"Create a stable hash from input node names.\"\"\"\n",
    "    key = tuple(sorted(node_inputs))\n",
    "    return hashlib.md5(str(key).encode()).hexdigest()[:8]\n",
    "\n",
    "\n",
    "def trace_and_export(\n",
    "    model: nn.Module, input_example: torch.Tensor, save_path=\"model_structure.json\"\n",
    "):\n",
    "    traced = fx.symbolic_trace(model)\n",
    "    node_to_id = {}\n",
    "    nodes = []\n",
    "    edges = []\n",
    "    input_map = defaultdict(list)\n",
    "    output_map = defaultdict(list)\n",
    "\n",
    "    for idx, node in enumerate(traced.graph.nodes):\n",
    "        node_id = f\"{node.op}_{node.name}_{idx}\"\n",
    "        node_to_id[node] = node_id\n",
    "        inputs = [node_to_id.get(inp, str(inp)) for inp in node.all_input_nodes]\n",
    "\n",
    "        nodes.append(\n",
    "            {\n",
    "                \"id\": node_id,\n",
    "                \"name\": node.name,\n",
    "                \"op\": node.op,\n",
    "                \"target\": str(node.target),\n",
    "                \"inputs\": inputs,\n",
    "                \"outputs\": [],  # we'll fill this later\n",
    "            }\n",
    "        )\n",
    "        for inp in inputs:\n",
    "            edges.append({\"from\": inp, \"to\": node_id})\n",
    "            output_map[inp].append(node_id)\n",
    "            input_map[node_id].append(inp)\n",
    "\n",
    "    # Add outputs to each node\n",
    "    for node in nodes:\n",
    "        node[\"outputs\"] = output_map[node[\"id\"]]\n",
    "\n",
    "    # Grouping by shared inputs and outputs\n",
    "    group_map = defaultdict(list)\n",
    "    for node in nodes:\n",
    "        key = hash_group(node[\"inputs\"])\n",
    "        group_map[key].append(node[\"id\"])\n",
    "\n",
    "    # Add group_id to each node\n",
    "    for node in nodes:\n",
    "        key = hash_group(node[\"inputs\"])\n",
    "        node[\"group_id\"] = key\n",
    "\n",
    "    # Export as JSON\n",
    "    import json\n",
    "\n",
    "    with open(save_path, \"w\") as f:\n",
    "        json.dump({\"nodes\": nodes, \"edges\": edges}, f, indent=2)\n",
    "\n",
    "    print(f\"Saved model structure with layout groups to {save_path}\")"
   ]
  },
  {
   "cell_type": "code",
   "execution_count": 28,
   "id": "1b03e364",
   "metadata": {},
   "outputs": [],
   "source": [
    "class SelfAttention(nn.Module):\n",
    "    def __init__(self, d_model):\n",
    "        super().__init__()\n",
    "        self.q_proj = nn.Linear(d_model, d_model)\n",
    "        self.k_proj = nn.Linear(d_model, d_model)\n",
    "        self.v_proj = nn.Linear(d_model, d_model)\n",
    "        self.out_proj = nn.Linear(d_model, d_model)\n",
    "\n",
    "    def forward(self, x):\n",
    "        q = self.q_proj(x)\n",
    "        k = self.k_proj(x)\n",
    "        v = self.v_proj(x)\n",
    "        attn = (q @ k.transpose(-2, -1)) / (q.size(-1) ** 0.5)\n",
    "        out = attn.softmax(dim=-1) @ v\n",
    "        return self.out_proj(out)"
   ]
  },
  {
   "cell_type": "code",
   "execution_count": 29,
   "id": "48b13d50",
   "metadata": {},
   "outputs": [
    {
     "name": "stdout",
     "output_type": "stream",
     "text": [
      "Saved model structure with layout groups to model_structure.json\n"
     ]
    }
   ],
   "source": [
    "model = SelfAttention(64)\n",
    "dummy_input = torch.randn(1, 10, 64)\n",
    "trace_and_export(model, dummy_input)"
   ]
  }
 ],
 "metadata": {
  "kernelspec": {
   "display_name": "neural-layer-analysis",
   "language": "python",
   "name": "python3"
  },
  "language_info": {
   "codemirror_mode": {
    "name": "ipython",
    "version": 3
   },
   "file_extension": ".py",
   "mimetype": "text/x-python",
   "name": "python",
   "nbconvert_exporter": "python",
   "pygments_lexer": "ipython3",
   "version": "3.11.11"
  }
 },
 "nbformat": 4,
 "nbformat_minor": 5
}

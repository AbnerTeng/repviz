<<<<<<< HEAD
{
 "cells": [
  {
   "cell_type": "code",
   "execution_count": 1,
   "metadata": {},
   "outputs": [],
   "source": [
    "import sys\n",
    "\n",
    "sys.path.append(\"..\")\n",
    "\n",
    "import numpy as np\n",
    "import torch\n",
    "from torch import nn\n",
    "from torch.utils.data import DataLoader\n",
    "\n",
    "from hooks import HookManager\n",
    "from models import TinyTabularAttentionModel\n",
    "from api.src.trainer import SampleDataset, seed_all"
   ]
  },
  {
   "cell_type": "code",
   "execution_count": 2,
   "metadata": {},
   "outputs": [],
   "source": [
    "seed_all()\n",
    "\n",
    "X_train = torch.rand(100, 10)\n",
    "X_test = torch.rand(20, 10)\n",
    "y_train = torch.randint(1, 3, (100,))\n",
    "y_test = torch.randint(1, 3, (20,))\n",
    "train_dataset = SampleDataset(X_train, y_train)\n",
    "test_dataset = SampleDataset(X_test, y_test)\n",
    "train_loader = DataLoader(train_dataset, batch_size=64, shuffle=True)\n",
    "test_loader = DataLoader(test_dataset, batch_size=64, shuffle=False)"
   ]
  },
  {
   "cell_type": "code",
   "execution_count": 3,
   "metadata": {},
   "outputs": [
    {
     "data": {
      "text/plain": [
       "tensor([1, 2, 2, 2, 1, 2, 1, 2, 1, 1, 1, 2, 2, 2, 2, 1, 2, 2, 1, 1, 1, 2, 1, 1,\n",
       "        1, 2, 1, 2, 2, 1, 1, 2, 1, 1, 2, 2, 1, 2, 1, 1, 1, 2, 1, 1, 1, 2, 2, 2,\n",
       "        2, 2, 1, 2, 2, 2, 1, 2, 2, 1, 2, 1, 1, 1, 1, 1, 2, 1, 1, 2, 1, 2, 2, 2,\n",
       "        1, 1, 1, 2, 1, 1, 1, 2, 2, 1, 1, 1, 1, 2, 2, 2, 2, 1, 1, 1, 2, 1, 2, 2,\n",
       "        1, 1, 1, 2])"
      ]
     },
     "execution_count": 3,
     "metadata": {},
     "output_type": "execute_result"
    }
   ],
   "source": [
    "y_train"
   ]
  },
  {
   "cell_type": "code",
   "execution_count": 4,
   "metadata": {},
   "outputs": [],
   "source": [
    "model = TinyTabularAttentionModel(X_train.shape[1], 10)\n",
    "torch.save(model.state_dict(), \"../model/ffn_covtype_attn.pth\")"
   ]
  },
  {
   "cell_type": "code",
   "execution_count": 5,
   "metadata": {},
   "outputs": [
    {
     "data": {
      "text/plain": [
       "<All keys matched successfully>"
      ]
     },
     "execution_count": 5,
     "metadata": {},
     "output_type": "execute_result"
    }
   ],
   "source": [
    "model.load_state_dict(\n",
    "    torch.load(\n",
    "        \"../model/ffn_covtype_attn.pth\",\n",
    "        map_location=torch.device(\"cpu\"),\n",
    "        weights_only=True,\n",
    "    )\n",
    ")"
   ]
  },
  {
   "cell_type": "code",
   "execution_count": 6,
   "metadata": {},
   "outputs": [
    {
     "name": "stdout",
     "output_type": "stream",
     "text": [
      "testing...\n",
      "Test Accuracy: 0.4000000059604645\n",
      "Test Loss: 0.7090970277786255\n"
     ]
    },
    {
     "name": "stderr",
     "output_type": "stream",
     "text": [
      "/Users/jiawei/Desktop/GitHub/neural-layer-analysis/notebooks/../hooks.py:97: UserWarning: To copy construct from a tensor, it is recommended to use sourceTensor.clone().detach() or sourceTensor.clone().detach().requires_grad_(True), rather than torch.tensor(sourceTensor).\n",
      "  torch.tensor(module.weight).detach().cpu()\n",
      "/var/folders/9s/8llfj8g96p9ftqjk54h2hd9h0000gn/T/ipykernel_32260/2355471852.py:7: UserWarning: To copy construct from a tensor, it is recommended to use sourceTensor.clone().detach() or sourceTensor.clone().detach().requires_grad_(True), rather than torch.tensor(sourceTensor).\n",
      "  ts_x = torch.tensor(ts_x, dtype=torch.float32)\n",
      "/var/folders/9s/8llfj8g96p9ftqjk54h2hd9h0000gn/T/ipykernel_32260/2355471852.py:8: UserWarning: To copy construct from a tensor, it is recommended to use sourceTensor.clone().detach() or sourceTensor.clone().detach().requires_grad_(True), rather than torch.tensor(sourceTensor).\n",
      "  ts_y = torch.tensor(ts_y, dtype=torch.long)\n"
     ]
    }
   ],
   "source": [
    "print(\"testing...\")\n",
    "model.eval()\n",
    "model_hook_mgr = HookManager(track_all=True)\n",
    "model_hook_mgr.register_hooks(model, partial_matches=[\"ALL\"])\n",
    "\n",
    "for ts_x, ts_y in test_loader:\n",
    "    ts_x = torch.tensor(ts_x, dtype=torch.float32)\n",
    "    ts_y = torch.tensor(ts_y, dtype=torch.long)\n",
    "    pred_y_test = model(ts_x)\n",
    "    loss = nn.CrossEntropyLoss()(pred_y_test, ts_y)\n",
    "    loss.backward()\n",
    "    clf = torch.argmax(pred_y_test, dim=-1)\n",
    "    acc = (clf == ts_y).float().mean().item()\n",
    "    print(f\"Test Accuracy: {acc}\")\n",
    "    print(f\"Test Loss: {loss.item()}\")\n",
    "    break"
   ]
  },
  {
   "cell_type": "code",
   "execution_count": 7,
   "metadata": {},
   "outputs": [
    {
     "name": "stdout",
     "output_type": "stream",
     "text": [
      "{'input_proj': {'module_type': 'Linear', 'args': 'None', 'kwargs': {'in_features': 10, 'out_features': 320, 'bias': True}}, 'attn_block.norm': {'module_type': 'LayerNorm', 'args': [(32,)], 'kwargs': {'eps': 1e-05, 'elementwise_affine': True}}, 'attn_block.attn': {'module_type': 'AttentionScore', 'args': 'None', 'kwargs': 'None'}, 'attn_block.q_proj': {'module_type': 'Linear', 'args': 'None', 'kwargs': {'in_features': 32, 'out_features': 32, 'bias': False}}, 'attn_block.k_proj': {'module_type': 'Linear', 'args': 'None', 'kwargs': {'in_features': 32, 'out_features': 32, 'bias': False}}, 'attn_block.v_proj': {'module_type': 'Linear', 'args': 'None', 'kwargs': {'in_features': 32, 'out_features': 32, 'bias': False}}, 'attn_block.out_proj': {'module_type': 'Linear', 'args': 'None', 'kwargs': {'in_features': 32, 'out_features': 32, 'bias': True}}, 'classifier.0': {'module_type': 'Linear', 'args': 'None', 'kwargs': {'in_features': 32, 'out_features': 32, 'bias': True}}, 'classifier.1': {'module_type': 'ReLU', 'args': 'None', 'kwargs': 'None'}, 'classifier.2': {'module_type': 'Linear', 'args': 'None', 'kwargs': {'in_features': 32, 'out_features': 2, 'bias': True}}}\n"
     ]
    }
   ],
   "source": [
    "import ast\n",
    "import re\n",
    "\n",
    "\n",
    "def parse_args_kwargs_from_repr(repr_str: str):\n",
    "    \"\"\"\n",
    "    Parse the positional args and keyword args from a nn.Module repr string.\n",
    "\n",
    "    Example:\n",
    "        \"LayerNorm((54,), eps=1e-05, elementwise_affine=True)\"\n",
    "        --> args: ((54,),), kwargs: {'eps': 1e-05, 'elementwise_affine': True}\n",
    "    \"\"\"\n",
    "    # Match the first '(' to the last ')' to get argument section\n",
    "    match = re.search(r\"\\((.*)\\)\", repr_str)\n",
    "    if not match:\n",
    "        return (), {}\n",
    "\n",
    "    content = match.group(1).strip()\n",
    "    args = []\n",
    "    kwargs = {}\n",
    "\n",
    "    # This regex splits by commas not inside parentheses\n",
    "    tokens = re.findall(r\"(?:[^,(]|\\([^)]*\\))+\", content)\n",
    "\n",
    "    for token in tokens:\n",
    "        token = token.strip()\n",
    "        if not token:\n",
    "            continue\n",
    "        if \"=\" in token:\n",
    "            key, val = token.split(\"=\", 1)\n",
    "            try:\n",
    "                kwargs[key.strip()] = ast.literal_eval(val.strip())\n",
    "            except Exception:\n",
    "                kwargs[key.strip()] = val.strip()  # fallback: string\n",
    "        else:\n",
    "            try:\n",
    "                args.append(ast.literal_eval(token))\n",
    "            except Exception:\n",
    "                args.append(token.strip())  # fallback: string\n",
    "\n",
    "    if len(args) == 0:\n",
    "        args = \"None\"\n",
    "    if len(kwargs) == 0:\n",
    "        kwargs = \"None\"\n",
    "\n",
    "    return args, kwargs\n",
    "\n",
    "\n",
    "infos = {}\n",
    "for name, module in model.named_modules():\n",
    "    if len(list(module.children())) == 0:\n",
    "        args, kwargs = parse_args_kwargs_from_repr(str(module))\n",
    "        module_type = str(module).split(\"(\")[0].strip()\n",
    "        infos[name] = {\n",
    "            \"module_type\": module_type,\n",
    "            \"args\": args,\n",
    "            \"kwargs\": kwargs,\n",
    "        }\n",
    "\n",
    "print(infos)"
   ]
  },
  {
   "cell_type": "code",
   "execution_count": 8,
   "metadata": {},
   "outputs": [],
   "source": [
    "inputs1 = model_hook_mgr.get_inputs()\n",
    "gradients1 = model_hook_mgr.get_gradients()\n",
    "weights1 = model_hook_mgr.get_weights()\n",
    "activs1 = model_hook_mgr.get_activations()"
   ]
  },
  {
   "cell_type": "code",
   "execution_count": 9,
   "metadata": {},
   "outputs": [
    {
     "name": "stderr",
     "output_type": "stream",
     "text": [
      "/Users/jiawei/Desktop/GitHub/neural-layer-analysis/.venv/lib/python3.11/site-packages/tqdm/auto.py:21: TqdmWarning: IProgress not found. Please update jupyter and ipywidgets. See https://ipywidgets.readthedocs.io/en/stable/user_install.html\n",
      "  from .autonotebook import tqdm as notebook_tqdm\n"
     ]
    }
   ],
   "source": [
    "import matplotlib.pyplot as plt\n",
    "import plotly.express as px\n",
    "import umap.umap_ as umap\n",
    "\n",
    "\n",
    "def plot_gradient_norms_from_hook(hook_manager: HookManager, step: int):\n",
    "    gradients = hook_manager.get_gradients()\n",
    "    norms = {name: grad.norm(2).item() for name, grad in gradients.items()}\n",
    "\n",
    "    plt.figure(figsize=(10, 5))\n",
    "    plt.bar(norms.keys(), norms.values())\n",
    "    plt.title(f\"L2 Norm of Gradients per Layer @ Step {step}\")\n",
    "    plt.ylabel(\"L2 Norm\")\n",
    "    plt.xticks(rotation=45, ha=\"right\")\n",
    "    plt.tight_layout()\n",
    "    plt.show()\n",
    "\n",
    "\n",
    "def plot_snr_from_hook(hook_manager: HookManager):\n",
    "    gradients = hook_manager.get_gradients()\n",
    "    snr = {}\n",
    "\n",
    "    for name, grad in gradients.items():\n",
    "        mean = grad.mean().item()\n",
    "        std = grad.std().item()\n",
    "        snr[name] = abs(mean) / std if std > 1e-8 else 0.0\n",
    "\n",
    "    plt.figure(figsize=(10, 5))\n",
    "    plt.bar(snr.keys(), snr.values(), color=\"orange\")\n",
    "    plt.title(\"Gradient Signal-to-Noise Ratio (|mean| / std)\")\n",
    "    plt.ylabel(\"SNR\")\n",
    "    plt.xticks(rotation=45, ha=\"right\")\n",
    "    plt.tight_layout()\n",
    "    plt.show()\n",
    "\n",
    "\n",
    "def plot_weight_spectrum_from_hook(hook_manager: HookManager):\n",
    "    weights = hook_manager.get_weights()\n",
    "    for name, w in weights.items():\n",
    "        if w.ndim == 2:\n",
    "            try:\n",
    "                eigvals = np.linalg.eigvals(w.numpy())\n",
    "                plt.figure()\n",
    "                plt.hist(np.real(eigvals), bins=50, alpha=0.7)\n",
    "                plt.title(f\"Eigenvalue Spectrum of {name}\")\n",
    "                plt.xlabel(\"Eigenvalue\")\n",
    "                plt.ylabel(\"Frequency\")\n",
    "                plt.tight_layout()\n",
    "                plt.show()\n",
    "            except np.linalg.LinAlgError:\n",
    "                print(f\"[Warning] Failed eigval computation for {name}\")\n",
    "\n",
    "\n",
    "def interactive_umap_analysis(activations: torch.Tensor, predictions, labels, losses):\n",
    "    reducer = umap.UMAP(n_neighbors=10, min_dist=0.1, metric=\"cosine\")\n",
    "    embedding_2d = reducer.fit_transform(activations.numpy())\n",
    "\n",
    "    fig = px.scatter(\n",
    "        x=embedding_2d[:, 0],\n",
    "        y=embedding_2d[:, 1],\n",
    "        color=losses,\n",
    "        hover_data={\"Prediction\": predictions, \"Label\": labels, \"Loss\": losses},\n",
    "        labels={\"x\": \"UMAP-1\", \"y\": \"UMAP-2\", \"color\": \"Loss\"},\n",
    "    )\n",
    "    fig.update_layout(title=\"UMAP Visualization of Activations with Loss Coloring\")\n",
    "    fig.show()"
   ]
  },
  {
   "cell_type": "code",
   "execution_count": 10,
   "metadata": {},
   "outputs": [
    {
     "name": "stdout",
     "output_type": "stream",
     "text": [
      "Linear:0: torch.Size([1, 20, 320])\n",
      "LayerNorm:0: torch.Size([1, 20, 10, 32])\n",
      "Linear:1: torch.Size([1, 20, 10, 32])\n",
      "Linear:2: torch.Size([1, 20, 10, 32])\n",
      "Linear:3: torch.Size([1, 20, 10, 32])\n",
      "AttentionScore:0: torch.Size([1, 20, 1, 10, 10])\n",
      "Linear:4: torch.Size([1, 20, 10, 32])\n",
      "Linear:5: torch.Size([1, 20, 32])\n",
      "ReLU:0: torch.Size([1, 20, 32])\n",
      "Linear:6: torch.Size([1, 20, 2])\n",
      "\n",
      "Linear:0: torch.Size([320, 10])\n",
      "LayerNorm:0: torch.Size([32])\n",
      "Linear:1: torch.Size([32, 32])\n",
      "Linear:2: torch.Size([32, 32])\n",
      "Linear:3: torch.Size([32, 32])\n",
      "Linear:4: torch.Size([32, 32])\n",
      "Linear:5: torch.Size([32, 32])\n",
      "Linear:6: torch.Size([2, 32])\n",
      "\n"
     ]
    }
   ],
   "source": [
    "for k, v in activs1.items():\n",
    "    print(f\"{k}: {v.shape}\")\n",
    "print()\n",
    "for k, v in weights1.items():\n",
    "    print(f\"{k}: {v.shape}\")\n",
    "print()"
   ]
  },
  {
   "cell_type": "code",
   "execution_count": 11,
   "metadata": {},
   "outputs": [
    {
     "data": {
      "image/png": "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",
      "text/plain": [
       "<Figure size 800x600 with 1 Axes>"
      ]
     },
     "metadata": {},
     "output_type": "display_data"
    },
    {
     "data": {
      "image/png": "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",
      "text/plain": [
       "<Figure size 1000x400 with 1 Axes>"
      ]
     },
     "metadata": {},
     "output_type": "display_data"
    }
   ],
   "source": [
    "import seaborn as sns\n",
    "\n",
    "# plt.style.use(\"default\")\n",
    "# plt.figure(figsize=(10, 6))\n",
    "\n",
    "sns.set(style=\"whitegrid\")\n",
    "x, y = (\n",
    "    activs1[\"LayerNorm:0\"][0, 1].mean(axis=0).detach().numpy(),\n",
    "    activs1[\"ReLU:0\"][0].mean(axis=0).detach().numpy(),\n",
    ")\n",
    "# Assume x and y are your layer inputs/outputs\n",
    "plt.figure(figsize=(8, 6))\n",
    "scatter = plt.scatter(x, y, c=y, cmap=\"viridis\", alpha=0.7, edgecolor=\"k\", s=60)\n",
    "\n",
    "# Axis labels and title\n",
    "plt.xlabel(\"Input to ReLU\", fontsize=14)\n",
    "plt.ylabel(\"Output of ReLU\", fontsize=14)\n",
    "plt.title(\"Layer Input vs Output (ReLU)\", fontsize=16)\n",
    "\n",
    "# Add colorbar if needed\n",
    "# cbar = plt.colorbar(scatter)\n",
    "# cbar.set_label(\"Output Value\")\n",
    "\n",
    "plt.tight_layout()\n",
    "plt.show()\n",
    "plt.figure(figsize=(10, 4))\n",
    "sns.histplot(\n",
    "    activs1[\"LayerNorm:0\"][0].mean(axis=0).detach().numpy(),\n",
    "    bins=50,\n",
    "    kde=True,\n",
    "    color=\"blue\",\n",
    "    edgecolor=\"black\",\n",
    "    label=\"LayerNorm:0 Mean Activation\",\n",
    ")\n",
    "plt.show()"
   ]
  },
  {
   "cell_type": "code",
   "execution_count": 12,
   "metadata": {},
   "outputs": [
    {
     "data": {
      "text/plain": [
       "array([ 0.00747718, -0.21483953, -0.5886405 , -0.22215481, -0.09026904,\n",
       "       -0.08458222,  0.05661498,  0.23463646,  0.12697332,  0.05944792,\n",
       "       -0.29787347,  0.1617782 , -0.15305671,  0.24520929,  0.2746757 ,\n",
       "        0.37755492,  0.35817677, -0.5313409 ,  0.18914993,  0.18089929,\n",
       "        0.21604714, -0.11033139, -0.74581873,  0.19423828,  0.55283105,\n",
       "       -0.34469974,  0.36307675, -0.4404633 ,  0.03465796,  0.11345349,\n",
       "        0.19202855, -0.11485662], dtype=float32)"
      ]
     },
     "execution_count": 12,
     "metadata": {},
     "output_type": "execute_result"
    }
   ],
   "source": [
    "activs1[\"LayerNorm:0\"][0, 1].mean(axis=0).detach().numpy()"
   ]
  },
  {
   "cell_type": "code",
   "execution_count": 13,
   "metadata": {},
   "outputs": [
    {
     "data": {
      "text/plain": [
       "(array([ 0.,  0.,  0.,  0.,  0.,  0.,  0.,  0.,  0.,  0.,  0.,  0.,  0.,\n",
       "         0.,  0.,  0.,  0.,  0.,  0.,  0.,  0.,  0.,  0.,  0.,  0., 32.,\n",
       "         0.,  0.,  0.,  0.,  0.,  0.,  0.,  0.,  0.,  0.,  0.,  0.,  0.,\n",
       "         0.,  0.,  0.,  0.,  0.,  0.,  0.,  0.,  0.,  0.,  0.]),\n",
       " array([0.5       , 0.51999998, 0.54000002, 0.56      , 0.57999998,\n",
       "        0.60000002, 0.62      , 0.63999999, 0.65999997, 0.68000001,\n",
       "        0.69999999, 0.72000003, 0.74000001, 0.75999999, 0.77999997,\n",
       "        0.79999995, 0.81999999, 0.84000003, 0.86000001, 0.88      ,\n",
       "        0.89999998, 0.91999996, 0.94      , 0.95999998, 0.98000002,\n",
       "        1.        , 1.01999998, 1.03999996, 1.05999994, 1.07999992,\n",
       "        1.0999999 , 1.12      , 1.13999999, 1.15999997, 1.18000007,\n",
       "        1.20000005, 1.22000003, 1.24000001, 1.25999999, 1.27999997,\n",
       "        1.29999995, 1.31999993, 1.33999991, 1.3599999 , 1.38      ,\n",
       "        1.39999998, 1.41999996, 1.44000006, 1.46000004, 1.48000002,\n",
       "        1.5       ]),\n",
       " <BarContainer object of 50 artists>)"
      ]
     },
     "execution_count": 13,
     "metadata": {},
     "output_type": "execute_result"
    },
    {
     "data": {
      "image/png": "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",
      "text/plain": [
       "<Figure size 640x480 with 1 Axes>"
      ]
     },
     "metadata": {},
     "output_type": "display_data"
    }
   ],
   "source": [
    "plt.hist(\n",
    "    weights1[\"LayerNorm:0\"].detach().numpy().flatten(),\n",
    "    bins=50,\n",
    "    alpha=0.7,\n",
    ")"
   ]
  },
  {
   "cell_type": "code",
   "execution_count": 14,
   "metadata": {},
   "outputs": [
    {
     "data": {
      "text/plain": [
       "torch.Size([10, 10])"
      ]
     },
     "execution_count": 14,
     "metadata": {},
     "output_type": "execute_result"
    }
   ],
   "source": [
    "data_id = 0\n",
    "head_id = 0\n",
    "\n",
    "activs1[\"AttentionScore:0\"][0][data_id, head_id].shape"
   ]
  },
  {
   "cell_type": "code",
   "execution_count": 15,
   "metadata": {},
   "outputs": [
    {
     "name": "stderr",
     "output_type": "stream",
     "text": [
      "/var/folders/9s/8llfj8g96p9ftqjk54h2hd9h0000gn/T/ipykernel_32260/3056056019.py:11: DeprecationWarning: __array__ implementation doesn't accept a copy keyword, so passing copy=False failed. __array__ must implement 'dtype' and 'copy' keyword arguments. To learn more, see the migration guide https://numpy.org/devdocs/numpy_2_0_migration_guide.html#adapting-to-changes-in-the-copy-keyword\n",
      "  attn_scores = np.array(attn_scores)\n"
     ]
    },
    {
     "data": {
      "application/vnd.plotly.v1+json": {
       "config": {
        "plotlyServerURL": "https://plot.ly"
       },
       "data": [
        {
         "hoverinfo": "x+y",
         "marker": {
          "color": "skyblue",
          "line": {
           "width": 0
          }
         },
         "orientation": "h",
         "type": "bar",
         "x": [
          0.1811254471540451,
          0.1328953057527542,
          0.10583557188510895,
          0.09782209247350693,
          0.0956277921795845,
          0.08871103823184967,
          0.07485253363847733,
          0.06602774560451508,
          0.051933396607637405
         ],
         "y": [
          "Token 1",
          "Token 9",
          "Token 6",
          "Token 4",
          "Token 2",
          "Token 8",
          "Token 5",
          "Token 7",
          "Token 3"
         ]
        }
       ],
       "layout": {
        "height": 400,
        "margin": {
         "b": 50,
         "l": 80,
         "r": 20,
         "t": 50
        },
        "template": {
         "data": {
          "bar": [
           {
            "error_x": {
             "color": "#2a3f5f"
            },
            "error_y": {
             "color": "#2a3f5f"
            },
            "marker": {
             "line": {
              "color": "#E5ECF6",
              "width": 0.5
             },
             "pattern": {
              "fillmode": "overlay",
              "size": 10,
              "solidity": 0.2
             }
            },
            "type": "bar"
           }
          ],
          "barpolar": [
           {
            "marker": {
             "line": {
              "color": "#E5ECF6",
              "width": 0.5
             },
             "pattern": {
              "fillmode": "overlay",
              "size": 10,
              "solidity": 0.2
             }
            },
            "type": "barpolar"
           }
          ],
          "carpet": [
           {
            "aaxis": {
             "endlinecolor": "#2a3f5f",
             "gridcolor": "white",
             "linecolor": "white",
             "minorgridcolor": "white",
             "startlinecolor": "#2a3f5f"
            },
            "baxis": {
             "endlinecolor": "#2a3f5f",
             "gridcolor": "white",
             "linecolor": "white",
             "minorgridcolor": "white",
             "startlinecolor": "#2a3f5f"
            },
            "type": "carpet"
           }
          ],
          "choropleth": [
           {
            "colorbar": {
             "outlinewidth": 0,
             "ticks": ""
            },
            "type": "choropleth"
           }
          ],
          "contour": [
           {
            "colorbar": {
             "outlinewidth": 0,
             "ticks": ""
            },
            "colorscale": [
             [
              0,
              "#0d0887"
             ],
             [
              0.1111111111111111,
              "#46039f"
             ],
             [
              0.2222222222222222,
              "#7201a8"
             ],
             [
              0.3333333333333333,
              "#9c179e"
             ],
             [
              0.4444444444444444,
              "#bd3786"
             ],
             [
              0.5555555555555556,
              "#d8576b"
             ],
             [
              0.6666666666666666,
              "#ed7953"
             ],
             [
              0.7777777777777778,
              "#fb9f3a"
             ],
             [
              0.8888888888888888,
              "#fdca26"
             ],
             [
              1,
              "#f0f921"
             ]
            ],
            "type": "contour"
           }
          ],
          "contourcarpet": [
           {
            "colorbar": {
             "outlinewidth": 0,
             "ticks": ""
            },
            "type": "contourcarpet"
           }
          ],
          "heatmap": [
           {
            "colorbar": {
             "outlinewidth": 0,
             "ticks": ""
            },
            "colorscale": [
             [
              0,
              "#0d0887"
             ],
             [
              0.1111111111111111,
              "#46039f"
             ],
             [
              0.2222222222222222,
              "#7201a8"
             ],
             [
              0.3333333333333333,
              "#9c179e"
             ],
             [
              0.4444444444444444,
              "#bd3786"
             ],
             [
              0.5555555555555556,
              "#d8576b"
             ],
             [
              0.6666666666666666,
              "#ed7953"
             ],
             [
              0.7777777777777778,
              "#fb9f3a"
             ],
             [
              0.8888888888888888,
              "#fdca26"
             ],
             [
              1,
              "#f0f921"
             ]
            ],
            "type": "heatmap"
           }
          ],
          "histogram": [
           {
            "marker": {
             "pattern": {
              "fillmode": "overlay",
              "size": 10,
              "solidity": 0.2
             }
            },
            "type": "histogram"
           }
          ],
          "histogram2d": [
           {
            "colorbar": {
             "outlinewidth": 0,
             "ticks": ""
            },
            "colorscale": [
             [
              0,
              "#0d0887"
             ],
             [
              0.1111111111111111,
              "#46039f"
             ],
             [
              0.2222222222222222,
              "#7201a8"
             ],
             [
              0.3333333333333333,
              "#9c179e"
             ],
             [
              0.4444444444444444,
              "#bd3786"
             ],
             [
              0.5555555555555556,
              "#d8576b"
             ],
             [
              0.6666666666666666,
              "#ed7953"
             ],
             [
              0.7777777777777778,
              "#fb9f3a"
             ],
             [
              0.8888888888888888,
              "#fdca26"
             ],
             [
              1,
              "#f0f921"
             ]
            ],
            "type": "histogram2d"
           }
          ],
          "histogram2dcontour": [
           {
            "colorbar": {
             "outlinewidth": 0,
             "ticks": ""
            },
            "colorscale": [
             [
              0,
              "#0d0887"
             ],
             [
              0.1111111111111111,
              "#46039f"
             ],
             [
              0.2222222222222222,
              "#7201a8"
             ],
             [
              0.3333333333333333,
              "#9c179e"
             ],
             [
              0.4444444444444444,
              "#bd3786"
             ],
             [
              0.5555555555555556,
              "#d8576b"
             ],
             [
              0.6666666666666666,
              "#ed7953"
             ],
             [
              0.7777777777777778,
              "#fb9f3a"
             ],
             [
              0.8888888888888888,
              "#fdca26"
             ],
             [
              1,
              "#f0f921"
             ]
            ],
            "type": "histogram2dcontour"
           }
          ],
          "mesh3d": [
           {
            "colorbar": {
             "outlinewidth": 0,
             "ticks": ""
            },
            "type": "mesh3d"
           }
          ],
          "parcoords": [
           {
            "line": {
             "colorbar": {
              "outlinewidth": 0,
              "ticks": ""
             }
            },
            "type": "parcoords"
           }
          ],
          "pie": [
           {
            "automargin": true,
            "type": "pie"
           }
          ],
          "scatter": [
           {
            "fillpattern": {
             "fillmode": "overlay",
             "size": 10,
             "solidity": 0.2
            },
            "type": "scatter"
           }
          ],
          "scatter3d": [
           {
            "line": {
             "colorbar": {
              "outlinewidth": 0,
              "ticks": ""
             }
            },
            "marker": {
             "colorbar": {
              "outlinewidth": 0,
              "ticks": ""
             }
            },
            "type": "scatter3d"
           }
          ],
          "scattercarpet": [
           {
            "marker": {
             "colorbar": {
              "outlinewidth": 0,
              "ticks": ""
             }
            },
            "type": "scattercarpet"
           }
          ],
          "scattergeo": [
           {
            "marker": {
             "colorbar": {
              "outlinewidth": 0,
              "ticks": ""
             }
            },
            "type": "scattergeo"
           }
          ],
          "scattergl": [
           {
            "marker": {
             "colorbar": {
              "outlinewidth": 0,
              "ticks": ""
             }
            },
            "type": "scattergl"
           }
          ],
          "scattermap": [
           {
            "marker": {
             "colorbar": {
              "outlinewidth": 0,
              "ticks": ""
             }
            },
            "type": "scattermap"
           }
          ],
          "scattermapbox": [
           {
            "marker": {
             "colorbar": {
              "outlinewidth": 0,
              "ticks": ""
             }
            },
            "type": "scattermapbox"
           }
          ],
          "scatterpolar": [
           {
            "marker": {
             "colorbar": {
              "outlinewidth": 0,
              "ticks": ""
             }
            },
            "type": "scatterpolar"
           }
          ],
          "scatterpolargl": [
           {
            "marker": {
             "colorbar": {
              "outlinewidth": 0,
              "ticks": ""
             }
            },
            "type": "scatterpolargl"
           }
          ],
          "scatterternary": [
           {
            "marker": {
             "colorbar": {
              "outlinewidth": 0,
              "ticks": ""
             }
            },
            "type": "scatterternary"
           }
          ],
          "surface": [
           {
            "colorbar": {
             "outlinewidth": 0,
             "ticks": ""
            },
            "colorscale": [
             [
              0,
              "#0d0887"
             ],
             [
              0.1111111111111111,
              "#46039f"
             ],
             [
              0.2222222222222222,
              "#7201a8"
             ],
             [
              0.3333333333333333,
              "#9c179e"
             ],
             [
              0.4444444444444444,
              "#bd3786"
             ],
             [
              0.5555555555555556,
              "#d8576b"
             ],
             [
              0.6666666666666666,
              "#ed7953"
             ],
             [
              0.7777777777777778,
              "#fb9f3a"
             ],
             [
              0.8888888888888888,
              "#fdca26"
             ],
             [
              1,
              "#f0f921"
             ]
            ],
            "type": "surface"
           }
          ],
          "table": [
           {
            "cells": {
             "fill": {
              "color": "#EBF0F8"
             },
             "line": {
              "color": "white"
             }
            },
            "header": {
             "fill": {
              "color": "#C8D4E3"
             },
             "line": {
              "color": "white"
             }
            },
            "type": "table"
           }
          ]
         },
         "layout": {
          "annotationdefaults": {
           "arrowcolor": "#2a3f5f",
           "arrowhead": 0,
           "arrowwidth": 1
          },
          "autotypenumbers": "strict",
          "coloraxis": {
           "colorbar": {
            "outlinewidth": 0,
            "ticks": ""
           }
          },
          "colorscale": {
           "diverging": [
            [
             0,
             "#8e0152"
            ],
            [
             0.1,
             "#c51b7d"
            ],
            [
             0.2,
             "#de77ae"
            ],
            [
             0.3,
             "#f1b6da"
            ],
            [
             0.4,
             "#fde0ef"
            ],
            [
             0.5,
             "#f7f7f7"
            ],
            [
             0.6,
             "#e6f5d0"
            ],
            [
             0.7,
             "#b8e186"
            ],
            [
             0.8,
             "#7fbc41"
            ],
            [
             0.9,
             "#4d9221"
            ],
            [
             1,
             "#276419"
            ]
           ],
           "sequential": [
            [
             0,
             "#0d0887"
            ],
            [
             0.1111111111111111,
             "#46039f"
            ],
            [
             0.2222222222222222,
             "#7201a8"
            ],
            [
             0.3333333333333333,
             "#9c179e"
            ],
            [
             0.4444444444444444,
             "#bd3786"
            ],
            [
             0.5555555555555556,
             "#d8576b"
            ],
            [
             0.6666666666666666,
             "#ed7953"
            ],
            [
             0.7777777777777778,
             "#fb9f3a"
            ],
            [
             0.8888888888888888,
             "#fdca26"
            ],
            [
             1,
             "#f0f921"
            ]
           ],
           "sequentialminus": [
            [
             0,
             "#0d0887"
            ],
            [
             0.1111111111111111,
             "#46039f"
            ],
            [
             0.2222222222222222,
             "#7201a8"
            ],
            [
             0.3333333333333333,
             "#9c179e"
            ],
            [
             0.4444444444444444,
             "#bd3786"
            ],
            [
             0.5555555555555556,
             "#d8576b"
            ],
            [
             0.6666666666666666,
             "#ed7953"
            ],
            [
             0.7777777777777778,
             "#fb9f3a"
            ],
            [
             0.8888888888888888,
             "#fdca26"
            ],
            [
             1,
             "#f0f921"
            ]
           ]
          },
          "colorway": [
           "#636efa",
           "#EF553B",
           "#00cc96",
           "#ab63fa",
           "#FFA15A",
           "#19d3f3",
           "#FF6692",
           "#B6E880",
           "#FF97FF",
           "#FECB52"
          ],
          "font": {
           "color": "#2a3f5f"
          },
          "geo": {
           "bgcolor": "white",
           "lakecolor": "white",
           "landcolor": "#E5ECF6",
           "showlakes": true,
           "showland": true,
           "subunitcolor": "white"
          },
          "hoverlabel": {
           "align": "left"
          },
          "hovermode": "closest",
          "mapbox": {
           "style": "light"
          },
          "paper_bgcolor": "white",
          "plot_bgcolor": "#E5ECF6",
          "polar": {
           "angularaxis": {
            "gridcolor": "white",
            "linecolor": "white",
            "ticks": ""
           },
           "bgcolor": "#E5ECF6",
           "radialaxis": {
            "gridcolor": "white",
            "linecolor": "white",
            "ticks": ""
           }
          },
          "scene": {
           "xaxis": {
            "backgroundcolor": "#E5ECF6",
            "gridcolor": "white",
            "gridwidth": 2,
            "linecolor": "white",
            "showbackground": true,
            "ticks": "",
            "zerolinecolor": "white"
           },
           "yaxis": {
            "backgroundcolor": "#E5ECF6",
            "gridcolor": "white",
            "gridwidth": 2,
            "linecolor": "white",
            "showbackground": true,
            "ticks": "",
            "zerolinecolor": "white"
           },
           "zaxis": {
            "backgroundcolor": "#E5ECF6",
            "gridcolor": "white",
            "gridwidth": 2,
            "linecolor": "white",
            "showbackground": true,
            "ticks": "",
            "zerolinecolor": "white"
           }
          },
          "shapedefaults": {
           "line": {
            "color": "#2a3f5f"
           }
          },
          "ternary": {
           "aaxis": {
            "gridcolor": "white",
            "linecolor": "white",
            "ticks": ""
           },
           "baxis": {
            "gridcolor": "white",
            "linecolor": "white",
            "ticks": ""
           },
           "bgcolor": "#E5ECF6",
           "caxis": {
            "gridcolor": "white",
            "linecolor": "white",
            "ticks": ""
           }
          },
          "title": {
           "x": 0.05
          },
          "xaxis": {
           "automargin": true,
           "gridcolor": "white",
           "linecolor": "white",
           "ticks": "",
           "title": {
            "standoff": 15
           },
           "zerolinecolor": "white",
           "zerolinewidth": 2
          },
          "yaxis": {
           "automargin": true,
           "gridcolor": "white",
           "linecolor": "white",
           "ticks": "",
           "title": {
            "standoff": 15
           },
           "zerolinecolor": "white",
           "zerolinewidth": 2
          }
         }
        },
        "title": {
         "text": "Query Attention Bar Chart (Query: Token 0)"
        },
        "xaxis": {
         "title": {
          "text": "Attention Score"
         }
        },
        "yaxis": {
         "autorange": "reversed"
        }
       }
      }
     },
     "metadata": {},
     "output_type": "display_data"
    },
    {
     "data": {
      "text/plain": [
       "[('Token 1', np.float32(0.18112545)),\n",
       " ('Token 9', np.float32(0.1328953)),\n",
       " ('Token 6', np.float32(0.10583557)),\n",
       " ('Token 4', np.float32(0.09782209)),\n",
       " ('Token 2', np.float32(0.09562779)),\n",
       " ('Token 8', np.float32(0.08871104)),\n",
       " ('Token 5', np.float32(0.07485253)),\n",
       " ('Token 7', np.float32(0.066027746)),\n",
       " ('Token 3', np.float32(0.051933397))]"
      ]
     },
     "execution_count": 15,
     "metadata": {},
     "output_type": "execute_result"
    }
   ],
   "source": [
    "import plotly.graph_objects as go\n",
    "import numpy as np\n",
    "\n",
    "def plot_query_attention_bar_plotly(\n",
    "    attn_scores: np.ndarray,\n",
    "    query_index: int,\n",
    "    tokens=None,\n",
    "    title=\"Query Attention\",\n",
    ") -> list:\n",
    "\n",
    "    attn_scores = np.array(attn_scores)\n",
    "    seq_len = attn_scores.shape[0]\n",
    "\n",
    "    # 取出 query row\n",
    "    query_attn = attn_scores[query_index]\n",
    "\n",
    "    # 排除自己\n",
    "    indices = list(range(seq_len))\n",
    "    indices.remove(query_index)\n",
    "    values = query_attn[indices]\n",
    "\n",
    "    if tokens:\n",
    "        labels = [tokens[i] for i in indices]\n",
    "    else:\n",
    "        labels = [f\"Token {i}\" for i in indices]\n",
    "\n",
    "    # 排序\n",
    "    sorted_pairs = sorted(zip(labels, values), key=lambda x: x[1], reverse=True)\n",
    "    sorted_labels, sorted_values = zip(*sorted_pairs)\n",
    "\n",
    "    # 建立 Plotly 條形圖\n",
    "    fig = go.Figure(go.Bar(\n",
    "        x=sorted_values,\n",
    "        y=sorted_labels,\n",
    "        orientation='h',\n",
    "        marker=dict(\n",
    "            color='skyblue',\n",
    "            line=dict(width=0),\n",
    "        ),\n",
    "        hoverinfo='x+y'\n",
    "    ))\n",
    "\n",
    "    fig.update_layout(\n",
    "        title=f\"{title} (Query: {tokens[query_index] if tokens else f'Token {query_index}'})\",\n",
    "        xaxis_title=\"Attention Score\",\n",
    "        yaxis=dict(autorange=\"reversed\"),\n",
    "        margin=dict(l=80, r=20, t=50, b=50),\n",
    "        height=400,\n",
    "    )\n",
    "\n",
    "    fig.show()\n",
    "    return sorted_pairs\n",
    "\n",
    "\n",
    "plot_query_attention_bar_plotly(\n",
    "    activs1[\"AttentionScore:0\"][0][data_id, head_id],\n",
    "    query_index=0,\n",
    "    tokens=[f\"Token {i}\" for i in range(activs1[\"AttentionScore:0\"][0][data_id, head_id].shape[0])],\n",
    "    title=\"Query Attention Bar Chart\"\n",
    ")\n"
   ]
  },
  {
   "cell_type": "code",
   "execution_count": 17,
   "metadata": {},
   "outputs": [
    {
     "name": "stderr",
     "output_type": "stream",
     "text": [
      "/var/folders/9s/8llfj8g96p9ftqjk54h2hd9h0000gn/T/ipykernel_32260/2033480398.py:9: DeprecationWarning:\n",
      "\n",
      "__array__ implementation doesn't accept a copy keyword, so passing copy=False failed. __array__ must implement 'dtype' and 'copy' keyword arguments. To learn more, see the migration guide https://numpy.org/devdocs/numpy_2_0_migration_guide.html#adapting-to-changes-in-the-copy-keyword\n",
      "\n"
     ]
    },
    {
     "data": {
      "application/vnd.plotly.v1+json": {
       "config": {
        "plotlyServerURL": "https://plot.ly"
       },
       "data": [
        {
         "colorscale": [
          [
           0,
           "rgb(247,251,255)"
          ],
          [
           0.125,
           "rgb(222,235,247)"
          ],
          [
           0.25,
           "rgb(198,219,239)"
          ],
          [
           0.375,
           "rgb(158,202,225)"
          ],
          [
           0.5,
           "rgb(107,174,214)"
          ],
          [
           0.625,
           "rgb(66,146,198)"
          ],
          [
           0.75,
           "rgb(33,113,181)"
          ],
          [
           0.875,
           "rgb(8,81,156)"
          ],
          [
           1,
           "rgb(8,48,107)"
          ]
         ],
         "hoverinfo": "z",
         "reversescale": false,
         "showscale": false,
         "type": "heatmap",
         "x": [
          "Token 0",
          "Token 1",
          "Token 2",
          "Token 3",
          "Token 4",
          "Token 5",
          "Token 6",
          "Token 7",
          "Token 8",
          "Token 9"
         ],
         "y": [
          "Token 0",
          "Token 1",
          "Token 2",
          "Token 3",
          "Token 4",
          "Token 5",
          "Token 6",
          "Token 7",
          "Token 8",
          "Token 9"
         ],
         "z": {
          "bdata": "AAEAAAAAAAAAAQAAAAAAAAAAAAEAAQAAAAEAAAAAAAAAAQEBAAAAAAABAAAAAAABAAABAAEAAAAAAAAAAAAAAAABAAAAAQAAAAAAAQAAAQAAAAEBAAAAAQAAAQAAAAEAAAAAAA==",
          "dtype": "i1",
          "shape": "10, 10"
         }
        }
       ],
       "layout": {
        "annotations": [
         {
          "font": {
           "color": "#000000"
          },
          "showarrow": false,
          "text": "0",
          "x": "Token 0",
          "xref": "x",
          "y": "Token 0",
          "yref": "y"
         },
         {
          "font": {
           "color": "#FFFFFF"
          },
          "showarrow": false,
          "text": "1",
          "x": "Token 1",
          "xref": "x",
          "y": "Token 0",
          "yref": "y"
         },
         {
          "font": {
           "color": "#000000"
          },
          "showarrow": false,
          "text": "0",
          "x": "Token 2",
          "xref": "x",
          "y": "Token 0",
          "yref": "y"
         },
         {
          "font": {
           "color": "#000000"
          },
          "showarrow": false,
          "text": "0",
          "x": "Token 3",
          "xref": "x",
          "y": "Token 0",
          "yref": "y"
         },
         {
          "font": {
           "color": "#000000"
          },
          "showarrow": false,
          "text": "0",
          "x": "Token 4",
          "xref": "x",
          "y": "Token 0",
          "yref": "y"
         },
         {
          "font": {
           "color": "#000000"
          },
          "showarrow": false,
          "text": "0",
          "x": "Token 5",
          "xref": "x",
          "y": "Token 0",
          "yref": "y"
         },
         {
          "font": {
           "color": "#000000"
          },
          "showarrow": false,
          "text": "0",
          "x": "Token 6",
          "xref": "x",
          "y": "Token 0",
          "yref": "y"
         },
         {
          "font": {
           "color": "#000000"
          },
          "showarrow": false,
          "text": "0",
          "x": "Token 7",
          "xref": "x",
          "y": "Token 0",
          "yref": "y"
         },
         {
          "font": {
           "color": "#000000"
          },
          "showarrow": false,
          "text": "0",
          "x": "Token 8",
          "xref": "x",
          "y": "Token 0",
          "yref": "y"
         },
         {
          "font": {
           "color": "#FFFFFF"
          },
          "showarrow": false,
          "text": "1",
          "x": "Token 9",
          "xref": "x",
          "y": "Token 0",
          "yref": "y"
         },
         {
          "font": {
           "color": "#000000"
          },
          "showarrow": false,
          "text": "0",
          "x": "Token 0",
          "xref": "x",
          "y": "Token 1",
          "yref": "y"
         },
         {
          "font": {
           "color": "#000000"
          },
          "showarrow": false,
          "text": "0",
          "x": "Token 1",
          "xref": "x",
          "y": "Token 1",
          "yref": "y"
         },
         {
          "font": {
           "color": "#000000"
          },
          "showarrow": false,
          "text": "0",
          "x": "Token 2",
          "xref": "x",
          "y": "Token 1",
          "yref": "y"
         },
         {
          "font": {
           "color": "#000000"
          },
          "showarrow": false,
          "text": "0",
          "x": "Token 3",
          "xref": "x",
          "y": "Token 1",
          "yref": "y"
         },
         {
          "font": {
           "color": "#000000"
          },
          "showarrow": false,
          "text": "0",
          "x": "Token 4",
          "xref": "x",
          "y": "Token 1",
          "yref": "y"
         },
         {
          "font": {
           "color": "#000000"
          },
          "showarrow": false,
          "text": "0",
          "x": "Token 5",
          "xref": "x",
          "y": "Token 1",
          "yref": "y"
         },
         {
          "font": {
           "color": "#000000"
          },
          "showarrow": false,
          "text": "0",
          "x": "Token 6",
          "xref": "x",
          "y": "Token 1",
          "yref": "y"
         },
         {
          "font": {
           "color": "#000000"
          },
          "showarrow": false,
          "text": "0",
          "x": "Token 7",
          "xref": "x",
          "y": "Token 1",
          "yref": "y"
         },
         {
          "font": {
           "color": "#000000"
          },
          "showarrow": false,
          "text": "0",
          "x": "Token 8",
          "xref": "x",
          "y": "Token 1",
          "yref": "y"
         },
         {
          "font": {
           "color": "#FFFFFF"
          },
          "showarrow": false,
          "text": "1",
          "x": "Token 9",
          "xref": "x",
          "y": "Token 1",
          "yref": "y"
         },
         {
          "font": {
           "color": "#000000"
          },
          "showarrow": false,
          "text": "0",
          "x": "Token 0",
          "xref": "x",
          "y": "Token 2",
          "yref": "y"
         },
         {
          "font": {
           "color": "#FFFFFF"
          },
          "showarrow": false,
          "text": "1",
          "x": "Token 1",
          "xref": "x",
          "y": "Token 2",
          "yref": "y"
         },
         {
          "font": {
           "color": "#000000"
          },
          "showarrow": false,
          "text": "0",
          "x": "Token 2",
          "xref": "x",
          "y": "Token 2",
          "yref": "y"
         },
         {
          "font": {
           "color": "#000000"
          },
          "showarrow": false,
          "text": "0",
          "x": "Token 3",
          "xref": "x",
          "y": "Token 2",
          "yref": "y"
         },
         {
          "font": {
           "color": "#000000"
          },
          "showarrow": false,
          "text": "0",
          "x": "Token 4",
          "xref": "x",
          "y": "Token 2",
          "yref": "y"
         },
         {
          "font": {
           "color": "#FFFFFF"
          },
          "showarrow": false,
          "text": "1",
          "x": "Token 5",
          "xref": "x",
          "y": "Token 2",
          "yref": "y"
         },
         {
          "font": {
           "color": "#000000"
          },
          "showarrow": false,
          "text": "0",
          "x": "Token 6",
          "xref": "x",
          "y": "Token 2",
          "yref": "y"
         },
         {
          "font": {
           "color": "#000000"
          },
          "showarrow": false,
          "text": "0",
          "x": "Token 7",
          "xref": "x",
          "y": "Token 2",
          "yref": "y"
         },
         {
          "font": {
           "color": "#000000"
          },
          "showarrow": false,
          "text": "0",
          "x": "Token 8",
          "xref": "x",
          "y": "Token 2",
          "yref": "y"
         },
         {
          "font": {
           "color": "#000000"
          },
          "showarrow": false,
          "text": "0",
          "x": "Token 9",
          "xref": "x",
          "y": "Token 2",
          "yref": "y"
         },
         {
          "font": {
           "color": "#000000"
          },
          "showarrow": false,
          "text": "0",
          "x": "Token 0",
          "xref": "x",
          "y": "Token 3",
          "yref": "y"
         },
         {
          "font": {
           "color": "#000000"
          },
          "showarrow": false,
          "text": "0",
          "x": "Token 1",
          "xref": "x",
          "y": "Token 3",
          "yref": "y"
         },
         {
          "font": {
           "color": "#000000"
          },
          "showarrow": false,
          "text": "0",
          "x": "Token 2",
          "xref": "x",
          "y": "Token 3",
          "yref": "y"
         },
         {
          "font": {
           "color": "#FFFFFF"
          },
          "showarrow": false,
          "text": "1",
          "x": "Token 3",
          "xref": "x",
          "y": "Token 3",
          "yref": "y"
         },
         {
          "font": {
           "color": "#FFFFFF"
          },
          "showarrow": false,
          "text": "1",
          "x": "Token 4",
          "xref": "x",
          "y": "Token 3",
          "yref": "y"
         },
         {
          "font": {
           "color": "#FFFFFF"
          },
          "showarrow": false,
          "text": "1",
          "x": "Token 5",
          "xref": "x",
          "y": "Token 3",
          "yref": "y"
         },
         {
          "font": {
           "color": "#000000"
          },
          "showarrow": false,
          "text": "0",
          "x": "Token 6",
          "xref": "x",
          "y": "Token 3",
          "yref": "y"
         },
         {
          "font": {
           "color": "#000000"
          },
          "showarrow": false,
          "text": "0",
          "x": "Token 7",
          "xref": "x",
          "y": "Token 3",
          "yref": "y"
         },
         {
          "font": {
           "color": "#000000"
          },
          "showarrow": false,
          "text": "0",
          "x": "Token 8",
          "xref": "x",
          "y": "Token 3",
          "yref": "y"
         },
         {
          "font": {
           "color": "#000000"
          },
          "showarrow": false,
          "text": "0",
          "x": "Token 9",
          "xref": "x",
          "y": "Token 3",
          "yref": "y"
         },
         {
          "font": {
           "color": "#000000"
          },
          "showarrow": false,
          "text": "0",
          "x": "Token 0",
          "xref": "x",
          "y": "Token 4",
          "yref": "y"
         },
         {
          "font": {
           "color": "#FFFFFF"
          },
          "showarrow": false,
          "text": "1",
          "x": "Token 1",
          "xref": "x",
          "y": "Token 4",
          "yref": "y"
         },
         {
          "font": {
           "color": "#000000"
          },
          "showarrow": false,
          "text": "0",
          "x": "Token 2",
          "xref": "x",
          "y": "Token 4",
          "yref": "y"
         },
         {
          "font": {
           "color": "#000000"
          },
          "showarrow": false,
          "text": "0",
          "x": "Token 3",
          "xref": "x",
          "y": "Token 4",
          "yref": "y"
         },
         {
          "font": {
           "color": "#000000"
          },
          "showarrow": false,
          "text": "0",
          "x": "Token 4",
          "xref": "x",
          "y": "Token 4",
          "yref": "y"
         },
         {
          "font": {
           "color": "#000000"
          },
          "showarrow": false,
          "text": "0",
          "x": "Token 5",
          "xref": "x",
          "y": "Token 4",
          "yref": "y"
         },
         {
          "font": {
           "color": "#000000"
          },
          "showarrow": false,
          "text": "0",
          "x": "Token 6",
          "xref": "x",
          "y": "Token 4",
          "yref": "y"
         },
         {
          "font": {
           "color": "#FFFFFF"
          },
          "showarrow": false,
          "text": "1",
          "x": "Token 7",
          "xref": "x",
          "y": "Token 4",
          "yref": "y"
         },
         {
          "font": {
           "color": "#000000"
          },
          "showarrow": false,
          "text": "0",
          "x": "Token 8",
          "xref": "x",
          "y": "Token 4",
          "yref": "y"
         },
         {
          "font": {
           "color": "#000000"
          },
          "showarrow": false,
          "text": "0",
          "x": "Token 9",
          "xref": "x",
          "y": "Token 4",
          "yref": "y"
         },
         {
          "font": {
           "color": "#FFFFFF"
          },
          "showarrow": false,
          "text": "1",
          "x": "Token 0",
          "xref": "x",
          "y": "Token 5",
          "yref": "y"
         },
         {
          "font": {
           "color": "#000000"
          },
          "showarrow": false,
          "text": "0",
          "x": "Token 1",
          "xref": "x",
          "y": "Token 5",
          "yref": "y"
         },
         {
          "font": {
           "color": "#FFFFFF"
          },
          "showarrow": false,
          "text": "1",
          "x": "Token 2",
          "xref": "x",
          "y": "Token 5",
          "yref": "y"
         },
         {
          "font": {
           "color": "#000000"
          },
          "showarrow": false,
          "text": "0",
          "x": "Token 3",
          "xref": "x",
          "y": "Token 5",
          "yref": "y"
         },
         {
          "font": {
           "color": "#000000"
          },
          "showarrow": false,
          "text": "0",
          "x": "Token 4",
          "xref": "x",
          "y": "Token 5",
          "yref": "y"
         },
         {
          "font": {
           "color": "#000000"
          },
          "showarrow": false,
          "text": "0",
          "x": "Token 5",
          "xref": "x",
          "y": "Token 5",
          "yref": "y"
         },
         {
          "font": {
           "color": "#000000"
          },
          "showarrow": false,
          "text": "0",
          "x": "Token 6",
          "xref": "x",
          "y": "Token 5",
          "yref": "y"
         },
         {
          "font": {
           "color": "#000000"
          },
          "showarrow": false,
          "text": "0",
          "x": "Token 7",
          "xref": "x",
          "y": "Token 5",
          "yref": "y"
         },
         {
          "font": {
           "color": "#000000"
          },
          "showarrow": false,
          "text": "0",
          "x": "Token 8",
          "xref": "x",
          "y": "Token 5",
          "yref": "y"
         },
         {
          "font": {
           "color": "#000000"
          },
          "showarrow": false,
          "text": "0",
          "x": "Token 9",
          "xref": "x",
          "y": "Token 5",
          "yref": "y"
         },
         {
          "font": {
           "color": "#000000"
          },
          "showarrow": false,
          "text": "0",
          "x": "Token 0",
          "xref": "x",
          "y": "Token 6",
          "yref": "y"
         },
         {
          "font": {
           "color": "#000000"
          },
          "showarrow": false,
          "text": "0",
          "x": "Token 1",
          "xref": "x",
          "y": "Token 6",
          "yref": "y"
         },
         {
          "font": {
           "color": "#000000"
          },
          "showarrow": false,
          "text": "0",
          "x": "Token 2",
          "xref": "x",
          "y": "Token 6",
          "yref": "y"
         },
         {
          "font": {
           "color": "#000000"
          },
          "showarrow": false,
          "text": "0",
          "x": "Token 3",
          "xref": "x",
          "y": "Token 6",
          "yref": "y"
         },
         {
          "font": {
           "color": "#000000"
          },
          "showarrow": false,
          "text": "0",
          "x": "Token 4",
          "xref": "x",
          "y": "Token 6",
          "yref": "y"
         },
         {
          "font": {
           "color": "#FFFFFF"
          },
          "showarrow": false,
          "text": "1",
          "x": "Token 5",
          "xref": "x",
          "y": "Token 6",
          "yref": "y"
         },
         {
          "font": {
           "color": "#000000"
          },
          "showarrow": false,
          "text": "0",
          "x": "Token 6",
          "xref": "x",
          "y": "Token 6",
          "yref": "y"
         },
         {
          "font": {
           "color": "#000000"
          },
          "showarrow": false,
          "text": "0",
          "x": "Token 7",
          "xref": "x",
          "y": "Token 6",
          "yref": "y"
         },
         {
          "font": {
           "color": "#000000"
          },
          "showarrow": false,
          "text": "0",
          "x": "Token 8",
          "xref": "x",
          "y": "Token 6",
          "yref": "y"
         },
         {
          "font": {
           "color": "#FFFFFF"
          },
          "showarrow": false,
          "text": "1",
          "x": "Token 9",
          "xref": "x",
          "y": "Token 6",
          "yref": "y"
         },
         {
          "font": {
           "color": "#000000"
          },
          "showarrow": false,
          "text": "0",
          "x": "Token 0",
          "xref": "x",
          "y": "Token 7",
          "yref": "y"
         },
         {
          "font": {
           "color": "#000000"
          },
          "showarrow": false,
          "text": "0",
          "x": "Token 1",
          "xref": "x",
          "y": "Token 7",
          "yref": "y"
         },
         {
          "font": {
           "color": "#000000"
          },
          "showarrow": false,
          "text": "0",
          "x": "Token 2",
          "xref": "x",
          "y": "Token 7",
          "yref": "y"
         },
         {
          "font": {
           "color": "#000000"
          },
          "showarrow": false,
          "text": "0",
          "x": "Token 3",
          "xref": "x",
          "y": "Token 7",
          "yref": "y"
         },
         {
          "font": {
           "color": "#000000"
          },
          "showarrow": false,
          "text": "0",
          "x": "Token 4",
          "xref": "x",
          "y": "Token 7",
          "yref": "y"
         },
         {
          "font": {
           "color": "#FFFFFF"
          },
          "showarrow": false,
          "text": "1",
          "x": "Token 5",
          "xref": "x",
          "y": "Token 7",
          "yref": "y"
         },
         {
          "font": {
           "color": "#000000"
          },
          "showarrow": false,
          "text": "0",
          "x": "Token 6",
          "xref": "x",
          "y": "Token 7",
          "yref": "y"
         },
         {
          "font": {
           "color": "#000000"
          },
          "showarrow": false,
          "text": "0",
          "x": "Token 7",
          "xref": "x",
          "y": "Token 7",
          "yref": "y"
         },
         {
          "font": {
           "color": "#FFFFFF"
          },
          "showarrow": false,
          "text": "1",
          "x": "Token 8",
          "xref": "x",
          "y": "Token 7",
          "yref": "y"
         },
         {
          "font": {
           "color": "#000000"
          },
          "showarrow": false,
          "text": "0",
          "x": "Token 9",
          "xref": "x",
          "y": "Token 7",
          "yref": "y"
         },
         {
          "font": {
           "color": "#000000"
          },
          "showarrow": false,
          "text": "0",
          "x": "Token 0",
          "xref": "x",
          "y": "Token 8",
          "yref": "y"
         },
         {
          "font": {
           "color": "#000000"
          },
          "showarrow": false,
          "text": "0",
          "x": "Token 1",
          "xref": "x",
          "y": "Token 8",
          "yref": "y"
         },
         {
          "font": {
           "color": "#FFFFFF"
          },
          "showarrow": false,
          "text": "1",
          "x": "Token 2",
          "xref": "x",
          "y": "Token 8",
          "yref": "y"
         },
         {
          "font": {
           "color": "#FFFFFF"
          },
          "showarrow": false,
          "text": "1",
          "x": "Token 3",
          "xref": "x",
          "y": "Token 8",
          "yref": "y"
         },
         {
          "font": {
           "color": "#000000"
          },
          "showarrow": false,
          "text": "0",
          "x": "Token 4",
          "xref": "x",
          "y": "Token 8",
          "yref": "y"
         },
         {
          "font": {
           "color": "#000000"
          },
          "showarrow": false,
          "text": "0",
          "x": "Token 5",
          "xref": "x",
          "y": "Token 8",
          "yref": "y"
         },
         {
          "font": {
           "color": "#000000"
          },
          "showarrow": false,
          "text": "0",
          "x": "Token 6",
          "xref": "x",
          "y": "Token 8",
          "yref": "y"
         },
         {
          "font": {
           "color": "#FFFFFF"
          },
          "showarrow": false,
          "text": "1",
          "x": "Token 7",
          "xref": "x",
          "y": "Token 8",
          "yref": "y"
         },
         {
          "font": {
           "color": "#000000"
          },
          "showarrow": false,
          "text": "0",
          "x": "Token 8",
          "xref": "x",
          "y": "Token 8",
          "yref": "y"
         },
         {
          "font": {
           "color": "#000000"
          },
          "showarrow": false,
          "text": "0",
          "x": "Token 9",
          "xref": "x",
          "y": "Token 8",
          "yref": "y"
         },
         {
          "font": {
           "color": "#FFFFFF"
          },
          "showarrow": false,
          "text": "1",
          "x": "Token 0",
          "xref": "x",
          "y": "Token 9",
          "yref": "y"
         },
         {
          "font": {
           "color": "#000000"
          },
          "showarrow": false,
          "text": "0",
          "x": "Token 1",
          "xref": "x",
          "y": "Token 9",
          "yref": "y"
         },
         {
          "font": {
           "color": "#000000"
          },
          "showarrow": false,
          "text": "0",
          "x": "Token 2",
          "xref": "x",
          "y": "Token 9",
          "yref": "y"
         },
         {
          "font": {
           "color": "#000000"
          },
          "showarrow": false,
          "text": "0",
          "x": "Token 3",
          "xref": "x",
          "y": "Token 9",
          "yref": "y"
         },
         {
          "font": {
           "color": "#FFFFFF"
          },
          "showarrow": false,
          "text": "1",
          "x": "Token 4",
          "xref": "x",
          "y": "Token 9",
          "yref": "y"
         },
         {
          "font": {
           "color": "#000000"
          },
          "showarrow": false,
          "text": "0",
          "x": "Token 5",
          "xref": "x",
          "y": "Token 9",
          "yref": "y"
         },
         {
          "font": {
           "color": "#000000"
          },
          "showarrow": false,
          "text": "0",
          "x": "Token 6",
          "xref": "x",
          "y": "Token 9",
          "yref": "y"
         },
         {
          "font": {
           "color": "#000000"
          },
          "showarrow": false,
          "text": "0",
          "x": "Token 7",
          "xref": "x",
          "y": "Token 9",
          "yref": "y"
         },
         {
          "font": {
           "color": "#000000"
          },
          "showarrow": false,
          "text": "0",
          "x": "Token 8",
          "xref": "x",
          "y": "Token 9",
          "yref": "y"
         },
         {
          "font": {
           "color": "#000000"
          },
          "showarrow": false,
          "text": "0",
          "x": "Token 9",
          "xref": "x",
          "y": "Token 9",
          "yref": "y"
         }
        ],
        "height": 600,
        "margin": {
         "b": 100,
         "l": 80,
         "r": 20,
         "t": 50
        },
        "template": {
         "data": {
          "bar": [
           {
            "error_x": {
             "color": "#2a3f5f"
            },
            "error_y": {
             "color": "#2a3f5f"
            },
            "marker": {
             "line": {
              "color": "#E5ECF6",
              "width": 0.5
             },
             "pattern": {
              "fillmode": "overlay",
              "size": 10,
              "solidity": 0.2
             }
            },
            "type": "bar"
           }
          ],
          "barpolar": [
           {
            "marker": {
             "line": {
              "color": "#E5ECF6",
              "width": 0.5
             },
             "pattern": {
              "fillmode": "overlay",
              "size": 10,
              "solidity": 0.2
             }
            },
            "type": "barpolar"
           }
          ],
          "carpet": [
           {
            "aaxis": {
             "endlinecolor": "#2a3f5f",
             "gridcolor": "white",
             "linecolor": "white",
             "minorgridcolor": "white",
             "startlinecolor": "#2a3f5f"
            },
            "baxis": {
             "endlinecolor": "#2a3f5f",
             "gridcolor": "white",
             "linecolor": "white",
             "minorgridcolor": "white",
             "startlinecolor": "#2a3f5f"
            },
            "type": "carpet"
           }
          ],
          "choropleth": [
           {
            "colorbar": {
             "outlinewidth": 0,
             "ticks": ""
            },
            "type": "choropleth"
           }
          ],
          "contour": [
           {
            "colorbar": {
             "outlinewidth": 0,
             "ticks": ""
            },
            "colorscale": [
             [
              0,
              "#0d0887"
             ],
             [
              0.1111111111111111,
              "#46039f"
             ],
             [
              0.2222222222222222,
              "#7201a8"
             ],
             [
              0.3333333333333333,
              "#9c179e"
             ],
             [
              0.4444444444444444,
              "#bd3786"
             ],
             [
              0.5555555555555556,
              "#d8576b"
             ],
             [
              0.6666666666666666,
              "#ed7953"
             ],
             [
              0.7777777777777778,
              "#fb9f3a"
             ],
             [
              0.8888888888888888,
              "#fdca26"
             ],
             [
              1,
              "#f0f921"
             ]
            ],
            "type": "contour"
           }
          ],
          "contourcarpet": [
           {
            "colorbar": {
             "outlinewidth": 0,
             "ticks": ""
            },
            "type": "contourcarpet"
           }
          ],
          "heatmap": [
           {
            "colorbar": {
             "outlinewidth": 0,
             "ticks": ""
            },
            "colorscale": [
             [
              0,
              "#0d0887"
             ],
             [
              0.1111111111111111,
              "#46039f"
             ],
             [
              0.2222222222222222,
              "#7201a8"
             ],
             [
              0.3333333333333333,
              "#9c179e"
             ],
             [
              0.4444444444444444,
              "#bd3786"
             ],
             [
              0.5555555555555556,
              "#d8576b"
             ],
             [
              0.6666666666666666,
              "#ed7953"
             ],
             [
              0.7777777777777778,
              "#fb9f3a"
             ],
             [
              0.8888888888888888,
              "#fdca26"
             ],
             [
              1,
              "#f0f921"
             ]
            ],
            "type": "heatmap"
           }
          ],
          "histogram": [
           {
            "marker": {
             "pattern": {
              "fillmode": "overlay",
              "size": 10,
              "solidity": 0.2
             }
            },
            "type": "histogram"
           }
          ],
          "histogram2d": [
           {
            "colorbar": {
             "outlinewidth": 0,
             "ticks": ""
            },
            "colorscale": [
             [
              0,
              "#0d0887"
             ],
             [
              0.1111111111111111,
              "#46039f"
             ],
             [
              0.2222222222222222,
              "#7201a8"
             ],
             [
              0.3333333333333333,
              "#9c179e"
             ],
             [
              0.4444444444444444,
              "#bd3786"
             ],
             [
              0.5555555555555556,
              "#d8576b"
             ],
             [
              0.6666666666666666,
              "#ed7953"
             ],
             [
              0.7777777777777778,
              "#fb9f3a"
             ],
             [
              0.8888888888888888,
              "#fdca26"
             ],
             [
              1,
              "#f0f921"
             ]
            ],
            "type": "histogram2d"
           }
          ],
          "histogram2dcontour": [
           {
            "colorbar": {
             "outlinewidth": 0,
             "ticks": ""
            },
            "colorscale": [
             [
              0,
              "#0d0887"
             ],
             [
              0.1111111111111111,
              "#46039f"
             ],
             [
              0.2222222222222222,
              "#7201a8"
             ],
             [
              0.3333333333333333,
              "#9c179e"
             ],
             [
              0.4444444444444444,
              "#bd3786"
             ],
             [
              0.5555555555555556,
              "#d8576b"
             ],
             [
              0.6666666666666666,
              "#ed7953"
             ],
             [
              0.7777777777777778,
              "#fb9f3a"
             ],
             [
              0.8888888888888888,
              "#fdca26"
             ],
             [
              1,
              "#f0f921"
             ]
            ],
            "type": "histogram2dcontour"
           }
          ],
          "mesh3d": [
           {
            "colorbar": {
             "outlinewidth": 0,
             "ticks": ""
            },
            "type": "mesh3d"
           }
          ],
          "parcoords": [
           {
            "line": {
             "colorbar": {
              "outlinewidth": 0,
              "ticks": ""
             }
            },
            "type": "parcoords"
           }
          ],
          "pie": [
           {
            "automargin": true,
            "type": "pie"
           }
          ],
          "scatter": [
           {
            "fillpattern": {
             "fillmode": "overlay",
             "size": 10,
             "solidity": 0.2
            },
            "type": "scatter"
           }
          ],
          "scatter3d": [
           {
            "line": {
             "colorbar": {
              "outlinewidth": 0,
              "ticks": ""
             }
            },
            "marker": {
             "colorbar": {
              "outlinewidth": 0,
              "ticks": ""
             }
            },
            "type": "scatter3d"
           }
          ],
          "scattercarpet": [
           {
            "marker": {
             "colorbar": {
              "outlinewidth": 0,
              "ticks": ""
             }
            },
            "type": "scattercarpet"
           }
          ],
          "scattergeo": [
           {
            "marker": {
             "colorbar": {
              "outlinewidth": 0,
              "ticks": ""
             }
            },
            "type": "scattergeo"
           }
          ],
          "scattergl": [
           {
            "marker": {
             "colorbar": {
              "outlinewidth": 0,
              "ticks": ""
             }
            },
            "type": "scattergl"
           }
          ],
          "scattermap": [
           {
            "marker": {
             "colorbar": {
              "outlinewidth": 0,
              "ticks": ""
             }
            },
            "type": "scattermap"
           }
          ],
          "scattermapbox": [
           {
            "marker": {
             "colorbar": {
              "outlinewidth": 0,
              "ticks": ""
             }
            },
            "type": "scattermapbox"
           }
          ],
          "scatterpolar": [
           {
            "marker": {
             "colorbar": {
              "outlinewidth": 0,
              "ticks": ""
             }
            },
            "type": "scatterpolar"
           }
          ],
          "scatterpolargl": [
           {
            "marker": {
             "colorbar": {
              "outlinewidth": 0,
              "ticks": ""
             }
            },
            "type": "scatterpolargl"
           }
          ],
          "scatterternary": [
           {
            "marker": {
             "colorbar": {
              "outlinewidth": 0,
              "ticks": ""
             }
            },
            "type": "scatterternary"
           }
          ],
          "surface": [
           {
            "colorbar": {
             "outlinewidth": 0,
             "ticks": ""
            },
            "colorscale": [
             [
              0,
              "#0d0887"
             ],
             [
              0.1111111111111111,
              "#46039f"
             ],
             [
              0.2222222222222222,
              "#7201a8"
             ],
             [
              0.3333333333333333,
              "#9c179e"
             ],
             [
              0.4444444444444444,
              "#bd3786"
             ],
             [
              0.5555555555555556,
              "#d8576b"
             ],
             [
              0.6666666666666666,
              "#ed7953"
             ],
             [
              0.7777777777777778,
              "#fb9f3a"
             ],
             [
              0.8888888888888888,
              "#fdca26"
             ],
             [
              1,
              "#f0f921"
             ]
            ],
            "type": "surface"
           }
          ],
          "table": [
           {
            "cells": {
             "fill": {
              "color": "#EBF0F8"
             },
             "line": {
              "color": "white"
             }
            },
            "header": {
             "fill": {
              "color": "#C8D4E3"
             },
             "line": {
              "color": "white"
             }
            },
            "type": "table"
           }
          ]
         },
         "layout": {
          "annotationdefaults": {
           "arrowcolor": "#2a3f5f",
           "arrowhead": 0,
           "arrowwidth": 1
          },
          "autotypenumbers": "strict",
          "coloraxis": {
           "colorbar": {
            "outlinewidth": 0,
            "ticks": ""
           }
          },
          "colorscale": {
           "diverging": [
            [
             0,
             "#8e0152"
            ],
            [
             0.1,
             "#c51b7d"
            ],
            [
             0.2,
             "#de77ae"
            ],
            [
             0.3,
             "#f1b6da"
            ],
            [
             0.4,
             "#fde0ef"
            ],
            [
             0.5,
             "#f7f7f7"
            ],
            [
             0.6,
             "#e6f5d0"
            ],
            [
             0.7,
             "#b8e186"
            ],
            [
             0.8,
             "#7fbc41"
            ],
            [
             0.9,
             "#4d9221"
            ],
            [
             1,
             "#276419"
            ]
           ],
           "sequential": [
            [
             0,
             "#0d0887"
            ],
            [
             0.1111111111111111,
             "#46039f"
            ],
            [
             0.2222222222222222,
             "#7201a8"
            ],
            [
             0.3333333333333333,
             "#9c179e"
            ],
            [
             0.4444444444444444,
             "#bd3786"
            ],
            [
             0.5555555555555556,
             "#d8576b"
            ],
            [
             0.6666666666666666,
             "#ed7953"
            ],
            [
             0.7777777777777778,
             "#fb9f3a"
            ],
            [
             0.8888888888888888,
             "#fdca26"
            ],
            [
             1,
             "#f0f921"
            ]
           ],
           "sequentialminus": [
            [
             0,
             "#0d0887"
            ],
            [
             0.1111111111111111,
             "#46039f"
            ],
            [
             0.2222222222222222,
             "#7201a8"
            ],
            [
             0.3333333333333333,
             "#9c179e"
            ],
            [
             0.4444444444444444,
             "#bd3786"
            ],
            [
             0.5555555555555556,
             "#d8576b"
            ],
            [
             0.6666666666666666,
             "#ed7953"
            ],
            [
             0.7777777777777778,
             "#fb9f3a"
            ],
            [
             0.8888888888888888,
             "#fdca26"
            ],
            [
             1,
             "#f0f921"
            ]
           ]
          },
          "colorway": [
           "#636efa",
           "#EF553B",
           "#00cc96",
           "#ab63fa",
           "#FFA15A",
           "#19d3f3",
           "#FF6692",
           "#B6E880",
           "#FF97FF",
           "#FECB52"
          ],
          "font": {
           "color": "#2a3f5f"
          },
          "geo": {
           "bgcolor": "white",
           "lakecolor": "white",
           "landcolor": "#E5ECF6",
           "showlakes": true,
           "showland": true,
           "subunitcolor": "white"
          },
          "hoverlabel": {
           "align": "left"
          },
          "hovermode": "closest",
          "mapbox": {
           "style": "light"
          },
          "paper_bgcolor": "white",
          "plot_bgcolor": "#E5ECF6",
          "polar": {
           "angularaxis": {
            "gridcolor": "white",
            "linecolor": "white",
            "ticks": ""
           },
           "bgcolor": "#E5ECF6",
           "radialaxis": {
            "gridcolor": "white",
            "linecolor": "white",
            "ticks": ""
           }
          },
          "scene": {
           "xaxis": {
            "backgroundcolor": "#E5ECF6",
            "gridcolor": "white",
            "gridwidth": 2,
            "linecolor": "white",
            "showbackground": true,
            "ticks": "",
            "zerolinecolor": "white"
           },
           "yaxis": {
            "backgroundcolor": "#E5ECF6",
            "gridcolor": "white",
            "gridwidth": 2,
            "linecolor": "white",
            "showbackground": true,
            "ticks": "",
            "zerolinecolor": "white"
           },
           "zaxis": {
            "backgroundcolor": "#E5ECF6",
            "gridcolor": "white",
            "gridwidth": 2,
            "linecolor": "white",
            "showbackground": true,
            "ticks": "",
            "zerolinecolor": "white"
           }
          },
          "shapedefaults": {
           "line": {
            "color": "#2a3f5f"
           }
          },
          "ternary": {
           "aaxis": {
            "gridcolor": "white",
            "linecolor": "white",
            "ticks": ""
           },
           "baxis": {
            "gridcolor": "white",
            "linecolor": "white",
            "ticks": ""
           },
           "bgcolor": "#E5ECF6",
           "caxis": {
            "gridcolor": "white",
            "linecolor": "white",
            "ticks": ""
           }
          },
          "title": {
           "x": 0.05
          },
          "xaxis": {
           "automargin": true,
           "gridcolor": "white",
           "linecolor": "white",
           "ticks": "",
           "title": {
            "standoff": 15
           },
           "zerolinecolor": "white",
           "zerolinewidth": 2
          },
          "yaxis": {
           "automargin": true,
           "gridcolor": "white",
           "linecolor": "white",
           "ticks": "",
           "title": {
            "standoff": 15
           },
           "zerolinecolor": "white",
           "zerolinewidth": 2
          }
         }
        },
        "title": {
         "text": "Binary Attention Map for Head 0 (threshold = 0.12)"
        },
        "width": 600,
        "xaxis": {
         "dtick": 1,
         "gridcolor": "rgb(0, 0, 0)",
         "side": "bottom",
         "tickangle": 90,
         "tickfont": {
          "size": 10
         },
         "ticks": "",
         "title": {
          "standoff": 10,
          "text": "Key"
         }
        },
        "yaxis": {
         "dtick": 1,
         "ticks": "",
         "ticksuffix": "  ",
         "title": {
          "text": "Query"
         }
        }
       }
      }
     },
     "metadata": {},
     "output_type": "display_data"
    }
   ],
   "source": [
    "import plotly.figure_factory as ff\n",
    "\n",
    "def plot_binary_attention_plotly(\n",
    "    attn_scores: np.ndarray,\n",
    "    threshold: float,\n",
    "    tokens: list = None,\n",
    "    title: str = \"Binary Attention Map\"\n",
    "):\n",
    "    attn_scores = np.array(attn_scores)\n",
    "    binary_matrix = (attn_scores >= threshold).astype(int)\n",
    "\n",
    "    # 預設 token 標籤\n",
    "    if tokens is None:\n",
    "        tokens = [f\"Token {i}\" for i in range(binary_matrix.shape[0])]\n",
    "\n",
    "    z_text = [[str(cell) for cell in row] for row in binary_matrix]\n",
    "\n",
    "    fig = ff.create_annotated_heatmap(\n",
    "        z=binary_matrix,\n",
    "        x=tokens,\n",
    "        y=tokens,\n",
    "        annotation_text=z_text,\n",
    "        colorscale=\"Blues\",\n",
    "        showscale=False,\n",
    "        hoverinfo=\"z\"\n",
    "    )\n",
    "\n",
    "    fig.update_layout(\n",
    "        title=f\"{title} (threshold = {threshold})\",\n",
    "        xaxis_title=\"Key\",\n",
    "        yaxis_title=\"Query\",\n",
    "        xaxis=dict(\n",
    "            tickangle=90,\n",
    "            side=\"bottom\",               # 確保出現在下方\n",
    "            tickfont=dict(size=10),     # 字體大小調整\n",
    "            title_standoff=10           # 與 xaxis_title 的距離\n",
    "        ),\n",
    "        width=600,\n",
    "        height=600,\n",
    "        margin=dict(l=80, r=20, t=50, b=100)  # 加大 bottom margin\n",
    "    )\n",
    "\n",
    "\n",
    "    fig.show()\n",
    "\n",
    "plot_binary_attention_plotly(\n",
    "    activs1[\"AttentionScore:0\"][0][data_id, head_id],\n",
    "    threshold=0.12,\n",
    "    tokens=[f\"Token {i}\" for i in range(activs1[\"AttentionScore:0\"][0][data_id, head_id].shape[0])],\n",
    "    title=\"Binary Attention Map for Head 0\"\n",
    ")\n"
   ]
  },
  {
   "cell_type": "code",
   "execution_count": null,
   "metadata": {},
   "outputs": [],
   "source": []
  }
 ],
 "metadata": {
  "kernelspec": {
   "display_name": "neural-layer-analysis",
   "language": "python",
   "name": "python3"
  },
  "language_info": {
   "codemirror_mode": {
    "name": "ipython",
    "version": 3
   },
   "file_extension": ".py",
   "mimetype": "text/x-python",
   "name": "python",
   "nbconvert_exporter": "python",
   "pygments_lexer": "ipython3",
   "version": "3.11.8"
  }
 },
 "nbformat": 4,
 "nbformat_minor": 2
}
||||||| parent of 593d90b ([dev] finish dev)
=======
{
 "cells": [
  {
   "cell_type": "code",
   "execution_count": null,
   "metadata": {},
   "outputs": [
    {
     "ename": "ModuleNotFoundError",
     "evalue": "No module named 'hooks'",
     "output_type": "error",
     "traceback": [
      "\u001b[31m---------------------------------------------------------------------------\u001b[39m",
      "\u001b[31mModuleNotFoundError\u001b[39m                       Traceback (most recent call last)",
      "\u001b[36mCell\u001b[39m\u001b[36m \u001b[39m\u001b[32mIn[1]\u001b[39m\u001b[32m, line 10\u001b[39m\n\u001b[32m      7\u001b[39m \u001b[38;5;28;01mfrom\u001b[39;00m\u001b[38;5;250m \u001b[39m\u001b[34;01mtorch\u001b[39;00m\u001b[38;5;250m \u001b[39m\u001b[38;5;28;01mimport\u001b[39;00m nn\n\u001b[32m      8\u001b[39m \u001b[38;5;28;01mfrom\u001b[39;00m\u001b[38;5;250m \u001b[39m\u001b[34;01mtorch\u001b[39;00m\u001b[34;01m.\u001b[39;00m\u001b[34;01mutils\u001b[39;00m\u001b[34;01m.\u001b[39;00m\u001b[34;01mdata\u001b[39;00m\u001b[38;5;250m \u001b[39m\u001b[38;5;28;01mimport\u001b[39;00m DataLoader\n\u001b[32m---> \u001b[39m\u001b[32m10\u001b[39m \u001b[38;5;28;01mfrom\u001b[39;00m\u001b[38;5;250m \u001b[39m\u001b[34;01mhooks\u001b[39;00m\u001b[38;5;250m \u001b[39m\u001b[38;5;28;01mimport\u001b[39;00m HookManager\n\u001b[32m     11\u001b[39m \u001b[38;5;28;01mfrom\u001b[39;00m\u001b[38;5;250m \u001b[39m\u001b[34;01mmodels\u001b[39;00m\u001b[38;5;250m \u001b[39m\u001b[38;5;28;01mimport\u001b[39;00m TinyTabularAttentionModel\n\u001b[32m     12\u001b[39m \u001b[38;5;28;01mfrom\u001b[39;00m\u001b[38;5;250m \u001b[39m\u001b[34;01mapi\u001b[39;00m\u001b[34;01m.\u001b[39;00m\u001b[34;01msrc\u001b[39;00m\u001b[34;01m.\u001b[39;00m\u001b[34;01mtrainer\u001b[39;00m\u001b[38;5;250m \u001b[39m\u001b[38;5;28;01mimport\u001b[39;00m SampleDataset, seed_all\n",
      "\u001b[31mModuleNotFoundError\u001b[39m: No module named 'hooks'"
     ]
    }
   ],
   "source": [
    "import sys\n",
    "\n",
    "sys.path.append(\"..\")\n",
    "\n",
    "import numpy as np\n",
    "import torch\n",
    "from torch import nn\n",
    "from torch.utils.data import DataLoader\n",
    "\n",
    "from repviz.hooks import HookManager\n",
    "from repviz.models import TinyTabularAttentionModel\n",
    "from api.src.trainer import SampleDataset, seed_all\n",
    "\n",
    "from repviz.plots import plot_query_attention_bar_seaborn, plot_binary_attention_seaborn"
   ]
  },
  {
   "cell_type": "code",
   "execution_count": 2,
   "metadata": {},
   "outputs": [],
   "source": [
    "seed_all()\n",
    "\n",
    "X_train = torch.rand(100, 10)\n",
    "X_test = torch.rand(20, 10)\n",
    "y_train = torch.randint(1, 3, (100,))\n",
    "y_test = torch.randint(1, 3, (20,))\n",
    "train_dataset = SampleDataset(X_train, y_train)\n",
    "test_dataset = SampleDataset(X_test, y_test)\n",
    "train_loader = DataLoader(train_dataset, batch_size=64, shuffle=True)\n",
    "test_loader = DataLoader(test_dataset, batch_size=64, shuffle=False)"
   ]
  },
  {
   "cell_type": "code",
   "execution_count": 3,
   "metadata": {},
   "outputs": [
    {
     "data": {
      "text/plain": [
       "tensor([1, 2, 2, 2, 1, 2, 1, 2, 1, 1, 1, 2, 2, 2, 2, 1, 2, 2, 1, 1, 1, 2, 1, 1,\n",
       "        1, 2, 1, 2, 2, 1, 1, 2, 1, 1, 2, 2, 1, 2, 1, 1, 1, 2, 1, 1, 1, 2, 2, 2,\n",
       "        2, 2, 1, 2, 2, 2, 1, 2, 2, 1, 2, 1, 1, 1, 1, 1, 2, 1, 1, 2, 1, 2, 2, 2,\n",
       "        1, 1, 1, 2, 1, 1, 1, 2, 2, 1, 1, 1, 1, 2, 2, 2, 2, 1, 1, 1, 2, 1, 2, 2,\n",
       "        1, 1, 1, 2])"
      ]
     },
     "execution_count": 3,
     "metadata": {},
     "output_type": "execute_result"
    }
   ],
   "source": [
    "y_train"
   ]
  },
  {
   "cell_type": "code",
   "execution_count": 4,
   "metadata": {},
   "outputs": [],
   "source": [
    "model = TinyTabularAttentionModel(X_train.shape[1], 10)\n",
    "torch.save(model.state_dict(), \"../model/ffn_covtype_attn.pth\")"
   ]
  },
  {
   "cell_type": "code",
   "execution_count": 5,
   "metadata": {},
   "outputs": [
    {
     "data": {
      "text/plain": [
       "<All keys matched successfully>"
      ]
     },
     "execution_count": 5,
     "metadata": {},
     "output_type": "execute_result"
    }
   ],
   "source": [
    "model.load_state_dict(\n",
    "    torch.load(\n",
    "        \"../model/ffn_covtype_attn.pth\",\n",
    "        map_location=torch.device(\"cpu\"),\n",
    "        weights_only=True,\n",
    "    )\n",
    ")"
   ]
  },
  {
   "cell_type": "code",
   "execution_count": 6,
   "metadata": {},
   "outputs": [
    {
     "name": "stdout",
     "output_type": "stream",
     "text": [
      "testing...\n",
      "Test Accuracy: 0.4000000059604645\n",
      "Test Loss: 0.7090970277786255\n"
     ]
    },
    {
     "name": "stderr",
     "output_type": "stream",
     "text": [
      "/Users/abnerteng/git/repviz/notebooks/../hooks.py:97: UserWarning: To copy construct from a tensor, it is recommended to use sourceTensor.clone().detach() or sourceTensor.clone().detach().requires_grad_(True), rather than torch.tensor(sourceTensor).\n",
      "  torch.tensor(module.weight).detach().cpu()\n",
      "/var/folders/5p/5d5cjs1n0sd8dhmpcjd35h0r0000gn/T/ipykernel_49061/2355471852.py:7: UserWarning: To copy construct from a tensor, it is recommended to use sourceTensor.clone().detach() or sourceTensor.clone().detach().requires_grad_(True), rather than torch.tensor(sourceTensor).\n",
      "  ts_x = torch.tensor(ts_x, dtype=torch.float32)\n",
      "/var/folders/5p/5d5cjs1n0sd8dhmpcjd35h0r0000gn/T/ipykernel_49061/2355471852.py:8: UserWarning: To copy construct from a tensor, it is recommended to use sourceTensor.clone().detach() or sourceTensor.clone().detach().requires_grad_(True), rather than torch.tensor(sourceTensor).\n",
      "  ts_y = torch.tensor(ts_y, dtype=torch.long)\n"
     ]
    }
   ],
   "source": [
    "print(\"testing...\")\n",
    "model.eval()\n",
    "model_hook_mgr = HookManager(track_all=True)\n",
    "model_hook_mgr.register_hooks(model, partial_matches=[\"ALL\"])\n",
    "\n",
    "for ts_x, ts_y in test_loader:\n",
    "    ts_x = torch.tensor(ts_x, dtype=torch.float32)\n",
    "    ts_y = torch.tensor(ts_y, dtype=torch.long)\n",
    "    pred_y_test = model(ts_x)\n",
    "    loss = nn.CrossEntropyLoss()(pred_y_test, ts_y)\n",
    "    loss.backward()\n",
    "    clf = torch.argmax(pred_y_test, dim=-1)\n",
    "    acc = (clf == ts_y).float().mean().item()\n",
    "    print(f\"Test Accuracy: {acc}\")\n",
    "    print(f\"Test Loss: {loss.item()}\")\n",
    "    break"
   ]
  },
  {
   "cell_type": "code",
   "execution_count": 7,
   "metadata": {},
   "outputs": [
    {
     "name": "stdout",
     "output_type": "stream",
     "text": [
      "{'input_proj': {'module_type': 'Linear', 'args': 'None', 'kwargs': {'in_features': 10, 'out_features': 320, 'bias': True}}, 'attn_block.norm': {'module_type': 'LayerNorm', 'args': [(32,)], 'kwargs': {'eps': 1e-05, 'elementwise_affine': True}}, 'attn_block.attn': {'module_type': 'AttentionScore', 'args': 'None', 'kwargs': 'None'}, 'attn_block.q_proj': {'module_type': 'Linear', 'args': 'None', 'kwargs': {'in_features': 32, 'out_features': 32, 'bias': False}}, 'attn_block.k_proj': {'module_type': 'Linear', 'args': 'None', 'kwargs': {'in_features': 32, 'out_features': 32, 'bias': False}}, 'attn_block.v_proj': {'module_type': 'Linear', 'args': 'None', 'kwargs': {'in_features': 32, 'out_features': 32, 'bias': False}}, 'attn_block.out_proj': {'module_type': 'Linear', 'args': 'None', 'kwargs': {'in_features': 32, 'out_features': 32, 'bias': True}}, 'classifier.0': {'module_type': 'Linear', 'args': 'None', 'kwargs': {'in_features': 32, 'out_features': 32, 'bias': True}}, 'classifier.1': {'module_type': 'ReLU', 'args': 'None', 'kwargs': 'None'}, 'classifier.2': {'module_type': 'Linear', 'args': 'None', 'kwargs': {'in_features': 32, 'out_features': 2, 'bias': True}}}\n"
     ]
    }
   ],
   "source": [
    "import ast\n",
    "import re\n",
    "\n",
    "\n",
    "def parse_args_kwargs_from_repr(repr_str: str):\n",
    "    \"\"\"\n",
    "    Parse the positional args and keyword args from a nn.Module repr string.\n",
    "\n",
    "    Example:\n",
    "        \"LayerNorm((54,), eps=1e-05, elementwise_affine=True)\"\n",
    "        --> args: ((54,),), kwargs: {'eps': 1e-05, 'elementwise_affine': True}\n",
    "    \"\"\"\n",
    "    # Match the first '(' to the last ')' to get argument section\n",
    "    match = re.search(r\"\\((.*)\\)\", repr_str)\n",
    "    if not match:\n",
    "        return (), {}\n",
    "\n",
    "    content = match.group(1).strip()\n",
    "    args = []\n",
    "    kwargs = {}\n",
    "\n",
    "    # This regex splits by commas not inside parentheses\n",
    "    tokens = re.findall(r\"(?:[^,(]|\\([^)]*\\))+\", content)\n",
    "\n",
    "    for token in tokens:\n",
    "        token = token.strip()\n",
    "        if not token:\n",
    "            continue\n",
    "        if \"=\" in token:\n",
    "            key, val = token.split(\"=\", 1)\n",
    "            try:\n",
    "                kwargs[key.strip()] = ast.literal_eval(val.strip())\n",
    "            except Exception:\n",
    "                kwargs[key.strip()] = val.strip()  # fallback: string\n",
    "        else:\n",
    "            try:\n",
    "                args.append(ast.literal_eval(token))\n",
    "            except Exception:\n",
    "                args.append(token.strip())  # fallback: string\n",
    "\n",
    "    if len(args) == 0:\n",
    "        args = \"None\"\n",
    "    if len(kwargs) == 0:\n",
    "        kwargs = \"None\"\n",
    "\n",
    "    return args, kwargs\n",
    "\n",
    "\n",
    "infos = {}\n",
    "for name, module in model.named_modules():\n",
    "    if len(list(module.children())) == 0:\n",
    "        args, kwargs = parse_args_kwargs_from_repr(str(module))\n",
    "        module_type = str(module).split(\"(\")[0].strip()\n",
    "        infos[name] = {\n",
    "            \"module_type\": module_type,\n",
    "            \"args\": args,\n",
    "            \"kwargs\": kwargs,\n",
    "        }\n",
    "\n",
    "print(infos)"
   ]
  },
  {
   "cell_type": "code",
   "execution_count": 8,
   "metadata": {},
   "outputs": [],
   "source": [
    "inputs1 = model_hook_mgr.get_inputs()\n",
    "gradients1 = model_hook_mgr.get_gradients()\n",
    "weights1 = model_hook_mgr.get_weights()\n",
    "activs1 = model_hook_mgr.get_activations()"
   ]
  },
  {
   "cell_type": "code",
   "execution_count": 9,
   "metadata": {},
   "outputs": [
    {
     "name": "stderr",
     "output_type": "stream",
     "text": [
      "/Users/abnerteng/git/repviz/.venv/lib/python3.11/site-packages/tqdm/auto.py:21: TqdmWarning: IProgress not found. Please update jupyter and ipywidgets. See https://ipywidgets.readthedocs.io/en/stable/user_install.html\n",
      "  from .autonotebook import tqdm as notebook_tqdm\n"
     ]
    }
   ],
   "source": [
    "import matplotlib.pyplot as plt\n",
    "import plotly.express as px\n",
    "import umap.umap_ as umap\n",
    "\n",
    "\n",
    "def plot_gradient_norms_from_hook(hook_manager: HookManager, step: int):\n",
    "    gradients = hook_manager.get_gradients()\n",
    "    norms = {name: grad.norm(2).item() for name, grad in gradients.items()}\n",
    "\n",
    "    plt.figure(figsize=(10, 5))\n",
    "    plt.bar(norms.keys(), norms.values())\n",
    "    plt.title(f\"L2 Norm of Gradients per Layer @ Step {step}\")\n",
    "    plt.ylabel(\"L2 Norm\")\n",
    "    plt.xticks(rotation=45, ha=\"right\")\n",
    "    plt.tight_layout()\n",
    "    plt.show()\n",
    "\n",
    "\n",
    "def plot_snr_from_hook(hook_manager: HookManager):\n",
    "    gradients = hook_manager.get_gradients()\n",
    "    snr = {}\n",
    "\n",
    "    for name, grad in gradients.items():\n",
    "        mean = grad.mean().item()\n",
    "        std = grad.std().item()\n",
    "        snr[name] = abs(mean) / std if std > 1e-8 else 0.0\n",
    "\n",
    "    plt.figure(figsize=(10, 5))\n",
    "    plt.bar(snr.keys(), snr.values(), color=\"orange\")\n",
    "    plt.title(\"Gradient Signal-to-Noise Ratio (|mean| / std)\")\n",
    "    plt.ylabel(\"SNR\")\n",
    "    plt.xticks(rotation=45, ha=\"right\")\n",
    "    plt.tight_layout()\n",
    "    plt.show()\n",
    "\n",
    "\n",
    "def plot_weight_spectrum_from_hook(hook_manager: HookManager):\n",
    "    weights = hook_manager.get_weights()\n",
    "    for name, w in weights.items():\n",
    "        if w.ndim == 2:\n",
    "            try:\n",
    "                eigvals = np.linalg.eigvals(w.numpy())\n",
    "                plt.figure()\n",
    "                plt.hist(np.real(eigvals), bins=50, alpha=0.7)\n",
    "                plt.title(f\"Eigenvalue Spectrum of {name}\")\n",
    "                plt.xlabel(\"Eigenvalue\")\n",
    "                plt.ylabel(\"Frequency\")\n",
    "                plt.tight_layout()\n",
    "                plt.show()\n",
    "            except np.linalg.LinAlgError:\n",
    "                print(f\"[Warning] Failed eigval computation for {name}\")\n",
    "\n",
    "\n",
    "def interactive_umap_analysis(activations: torch.Tensor, predictions, labels, losses):\n",
    "    reducer = umap.UMAP(n_neighbors=10, min_dist=0.1, metric=\"cosine\")\n",
    "    embedding_2d = reducer.fit_transform(activations.numpy())\n",
    "\n",
    "    fig = px.scatter(\n",
    "        x=embedding_2d[:, 0],\n",
    "        y=embedding_2d[:, 1],\n",
    "        color=losses,\n",
    "        hover_data={\"Prediction\": predictions, \"Label\": labels, \"Loss\": losses},\n",
    "        labels={\"x\": \"UMAP-1\", \"y\": \"UMAP-2\", \"color\": \"Loss\"},\n",
    "    )\n",
    "    fig.update_layout(title=\"UMAP Visualization of Activations with Loss Coloring\")\n",
    "    fig.show()"
   ]
  },
  {
   "cell_type": "code",
   "execution_count": 10,
   "metadata": {},
   "outputs": [
    {
     "name": "stdout",
     "output_type": "stream",
     "text": [
      "Linear:0: torch.Size([1, 20, 320])\n",
      "LayerNorm:0: torch.Size([1, 20, 10, 32])\n",
      "Linear:1: torch.Size([1, 20, 10, 32])\n",
      "Linear:2: torch.Size([1, 20, 10, 32])\n",
      "Linear:3: torch.Size([1, 20, 10, 32])\n",
      "AttentionScore:0: torch.Size([1, 20, 1, 10, 10])\n",
      "Linear:4: torch.Size([1, 20, 10, 32])\n",
      "Linear:5: torch.Size([1, 20, 32])\n",
      "ReLU:0: torch.Size([1, 20, 32])\n",
      "Linear:6: torch.Size([1, 20, 2])\n",
      "\n",
      "Linear:0: torch.Size([320, 10])\n",
      "LayerNorm:0: torch.Size([32])\n",
      "Linear:1: torch.Size([32, 32])\n",
      "Linear:2: torch.Size([32, 32])\n",
      "Linear:3: torch.Size([32, 32])\n",
      "Linear:4: torch.Size([32, 32])\n",
      "Linear:5: torch.Size([32, 32])\n",
      "Linear:6: torch.Size([2, 32])\n",
      "\n"
     ]
    }
   ],
   "source": [
    "for k, v in activs1.items():\n",
    "    print(f\"{k}: {v.shape}\")\n",
    "print()\n",
    "for k, v in weights1.items():\n",
    "    print(f\"{k}: {v.shape}\")\n",
    "print()"
   ]
  },
  {
   "cell_type": "code",
   "execution_count": 11,
   "metadata": {},
   "outputs": [
    {
     "data": {
      "image/png": "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",
      "text/plain": [
       "<Figure size 800x600 with 1 Axes>"
      ]
     },
     "metadata": {},
     "output_type": "display_data"
    },
    {
     "data": {
      "image/png": "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",
      "text/plain": [
       "<Figure size 1000x400 with 1 Axes>"
      ]
     },
     "metadata": {},
     "output_type": "display_data"
    }
   ],
   "source": [
    "import seaborn as sns\n",
    "\n",
    "# plt.style.use(\"default\")\n",
    "# plt.figure(figsize=(10, 6))\n",
    "\n",
    "sns.set(style=\"whitegrid\")\n",
    "x, y = (\n",
    "    activs1[\"LayerNorm:0\"][0, 1].mean(axis=0).detach().numpy(),\n",
    "    activs1[\"ReLU:0\"][0].mean(axis=0).detach().numpy(),\n",
    ")\n",
    "# Assume x and y are your layer inputs/outputs\n",
    "plt.figure(figsize=(8, 6))\n",
    "scatter = plt.scatter(x, y, c=y, cmap=\"viridis\", alpha=0.7, edgecolor=\"k\", s=60)\n",
    "\n",
    "# Axis labels and title\n",
    "plt.xlabel(\"Input to ReLU\", fontsize=14)\n",
    "plt.ylabel(\"Output of ReLU\", fontsize=14)\n",
    "plt.title(\"Layer Input vs Output (ReLU)\", fontsize=16)\n",
    "\n",
    "# Add colorbar if needed\n",
    "# cbar = plt.colorbar(scatter)\n",
    "# cbar.set_label(\"Output Value\")\n",
    "\n",
    "plt.tight_layout()\n",
    "plt.show()\n",
    "plt.figure(figsize=(10, 4))\n",
    "sns.histplot(\n",
    "    activs1[\"LayerNorm:0\"][0].mean(axis=0).detach().numpy(),\n",
    "    bins=50,\n",
    "    kde=True,\n",
    "    color=\"blue\",\n",
    "    edgecolor=\"black\",\n",
    "    label=\"LayerNorm:0 Mean Activation\",\n",
    ")\n",
    "plt.show()"
   ]
  },
  {
   "cell_type": "code",
   "execution_count": 12,
   "metadata": {},
   "outputs": [
    {
     "data": {
      "text/plain": [
       "array([ 0.00747718, -0.21483953, -0.5886405 , -0.22215481, -0.09026904,\n",
       "       -0.08458222,  0.05661498,  0.23463646,  0.12697332,  0.05944792,\n",
       "       -0.29787347,  0.1617782 , -0.15305671,  0.24520929,  0.2746757 ,\n",
       "        0.37755492,  0.35817677, -0.5313409 ,  0.18914993,  0.18089929,\n",
       "        0.21604714, -0.11033139, -0.74581873,  0.19423828,  0.55283105,\n",
       "       -0.34469974,  0.36307675, -0.4404633 ,  0.03465796,  0.11345349,\n",
       "        0.19202855, -0.11485662], dtype=float32)"
      ]
     },
     "execution_count": 12,
     "metadata": {},
     "output_type": "execute_result"
    }
   ],
   "source": [
    "activs1[\"LayerNorm:0\"][0, 1].mean(axis=0).detach().numpy()"
   ]
  },
  {
   "cell_type": "code",
   "execution_count": 13,
   "metadata": {},
   "outputs": [
    {
     "data": {
      "text/plain": [
       "(array([ 0.,  0.,  0.,  0.,  0.,  0.,  0.,  0.,  0.,  0.,  0.,  0.,  0.,\n",
       "         0.,  0.,  0.,  0.,  0.,  0.,  0.,  0.,  0.,  0.,  0.,  0., 32.,\n",
       "         0.,  0.,  0.,  0.,  0.,  0.,  0.,  0.,  0.,  0.,  0.,  0.,  0.,\n",
       "         0.,  0.,  0.,  0.,  0.,  0.,  0.,  0.,  0.,  0.,  0.]),\n",
       " array([0.5       , 0.51999998, 0.54000002, 0.56      , 0.57999998,\n",
       "        0.60000002, 0.62      , 0.63999999, 0.65999997, 0.68000001,\n",
       "        0.69999999, 0.72000003, 0.74000001, 0.75999999, 0.77999997,\n",
       "        0.79999995, 0.81999999, 0.84000003, 0.86000001, 0.88      ,\n",
       "        0.89999998, 0.91999996, 0.94      , 0.95999998, 0.98000002,\n",
       "        1.        , 1.01999998, 1.03999996, 1.05999994, 1.07999992,\n",
       "        1.0999999 , 1.12      , 1.13999999, 1.15999997, 1.18000007,\n",
       "        1.20000005, 1.22000003, 1.24000001, 1.25999999, 1.27999997,\n",
       "        1.29999995, 1.31999993, 1.33999991, 1.3599999 , 1.38      ,\n",
       "        1.39999998, 1.41999996, 1.44000006, 1.46000004, 1.48000002,\n",
       "        1.5       ]),\n",
       " <BarContainer object of 50 artists>)"
      ]
     },
     "execution_count": 13,
     "metadata": {},
     "output_type": "execute_result"
    },
    {
     "data": {
      "image/png": "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",
      "text/plain": [
       "<Figure size 640x480 with 1 Axes>"
      ]
     },
     "metadata": {},
     "output_type": "display_data"
    }
   ],
   "source": [
    "plt.hist(\n",
    "    weights1[\"LayerNorm:0\"].detach().numpy().flatten(),\n",
    "    bins=50,\n",
    "    alpha=0.7,\n",
    ")"
   ]
  },
  {
   "cell_type": "code",
   "execution_count": 14,
   "metadata": {},
   "outputs": [
    {
     "data": {
      "text/plain": [
       "torch.Size([10, 10])"
      ]
     },
     "execution_count": 14,
     "metadata": {},
     "output_type": "execute_result"
    }
   ],
   "source": [
    "data_id = 0\n",
    "head_id = 0\n",
    "\n",
    "activs1[\"AttentionScore:0\"][0][data_id, head_id].shape"
   ]
  },
  {
   "cell_type": "code",
   "execution_count": null,
   "metadata": {},
   "outputs": [
    {
     "name": "stderr",
     "output_type": "stream",
     "text": [
      "/var/folders/5p/5d5cjs1n0sd8dhmpcjd35h0r0000gn/T/ipykernel_49061/3056056019.py:11: DeprecationWarning: __array__ implementation doesn't accept a copy keyword, so passing copy=False failed. __array__ must implement 'dtype' and 'copy' keyword arguments. To learn more, see the migration guide https://numpy.org/devdocs/numpy_2_0_migration_guide.html#adapting-to-changes-in-the-copy-keyword\n",
      "  attn_scores = np.array(attn_scores)\n"
     ]
    },
    {
     "data": {
      "application/vnd.plotly.v1+json": {
       "config": {
        "plotlyServerURL": "https://plot.ly"
       },
       "data": [
        {
         "hoverinfo": "x+y",
         "marker": {
          "color": "skyblue",
          "line": {
           "width": 0
          }
         },
         "orientation": "h",
         "type": "bar",
         "x": [
          0.1811254471540451,
          0.1328953057527542,
          0.10583557188510895,
          0.09782209247350693,
          0.0956277921795845,
          0.08871103823184967,
          0.07485253363847733,
          0.06602774560451508,
          0.051933396607637405
         ],
         "y": [
          "Token 1",
          "Token 9",
          "Token 6",
          "Token 4",
          "Token 2",
          "Token 8",
          "Token 5",
          "Token 7",
          "Token 3"
         ]
        }
       ],
       "layout": {
        "height": 400,
        "margin": {
         "b": 50,
         "l": 80,
         "r": 20,
         "t": 50
        },
        "template": {
         "data": {
          "bar": [
           {
            "error_x": {
             "color": "#2a3f5f"
            },
            "error_y": {
             "color": "#2a3f5f"
            },
            "marker": {
             "line": {
              "color": "#E5ECF6",
              "width": 0.5
             },
             "pattern": {
              "fillmode": "overlay",
              "size": 10,
              "solidity": 0.2
             }
            },
            "type": "bar"
           }
          ],
          "barpolar": [
           {
            "marker": {
             "line": {
              "color": "#E5ECF6",
              "width": 0.5
             },
             "pattern": {
              "fillmode": "overlay",
              "size": 10,
              "solidity": 0.2
             }
            },
            "type": "barpolar"
           }
          ],
          "carpet": [
           {
            "aaxis": {
             "endlinecolor": "#2a3f5f",
             "gridcolor": "white",
             "linecolor": "white",
             "minorgridcolor": "white",
             "startlinecolor": "#2a3f5f"
            },
            "baxis": {
             "endlinecolor": "#2a3f5f",
             "gridcolor": "white",
             "linecolor": "white",
             "minorgridcolor": "white",
             "startlinecolor": "#2a3f5f"
            },
            "type": "carpet"
           }
          ],
          "choropleth": [
           {
            "colorbar": {
             "outlinewidth": 0,
             "ticks": ""
            },
            "type": "choropleth"
           }
          ],
          "contour": [
           {
            "colorbar": {
             "outlinewidth": 0,
             "ticks": ""
            },
            "colorscale": [
             [
              0,
              "#0d0887"
             ],
             [
              0.1111111111111111,
              "#46039f"
             ],
             [
              0.2222222222222222,
              "#7201a8"
             ],
             [
              0.3333333333333333,
              "#9c179e"
             ],
             [
              0.4444444444444444,
              "#bd3786"
             ],
             [
              0.5555555555555556,
              "#d8576b"
             ],
             [
              0.6666666666666666,
              "#ed7953"
             ],
             [
              0.7777777777777778,
              "#fb9f3a"
             ],
             [
              0.8888888888888888,
              "#fdca26"
             ],
             [
              1,
              "#f0f921"
             ]
            ],
            "type": "contour"
           }
          ],
          "contourcarpet": [
           {
            "colorbar": {
             "outlinewidth": 0,
             "ticks": ""
            },
            "type": "contourcarpet"
           }
          ],
          "heatmap": [
           {
            "colorbar": {
             "outlinewidth": 0,
             "ticks": ""
            },
            "colorscale": [
             [
              0,
              "#0d0887"
             ],
             [
              0.1111111111111111,
              "#46039f"
             ],
             [
              0.2222222222222222,
              "#7201a8"
             ],
             [
              0.3333333333333333,
              "#9c179e"
             ],
             [
              0.4444444444444444,
              "#bd3786"
             ],
             [
              0.5555555555555556,
              "#d8576b"
             ],
             [
              0.6666666666666666,
              "#ed7953"
             ],
             [
              0.7777777777777778,
              "#fb9f3a"
             ],
             [
              0.8888888888888888,
              "#fdca26"
             ],
             [
              1,
              "#f0f921"
             ]
            ],
            "type": "heatmap"
           }
          ],
          "histogram": [
           {
            "marker": {
             "pattern": {
              "fillmode": "overlay",
              "size": 10,
              "solidity": 0.2
             }
            },
            "type": "histogram"
           }
          ],
          "histogram2d": [
           {
            "colorbar": {
             "outlinewidth": 0,
             "ticks": ""
            },
            "colorscale": [
             [
              0,
              "#0d0887"
             ],
             [
              0.1111111111111111,
              "#46039f"
             ],
             [
              0.2222222222222222,
              "#7201a8"
             ],
             [
              0.3333333333333333,
              "#9c179e"
             ],
             [
              0.4444444444444444,
              "#bd3786"
             ],
             [
              0.5555555555555556,
              "#d8576b"
             ],
             [
              0.6666666666666666,
              "#ed7953"
             ],
             [
              0.7777777777777778,
              "#fb9f3a"
             ],
             [
              0.8888888888888888,
              "#fdca26"
             ],
             [
              1,
              "#f0f921"
             ]
            ],
            "type": "histogram2d"
           }
          ],
          "histogram2dcontour": [
           {
            "colorbar": {
             "outlinewidth": 0,
             "ticks": ""
            },
            "colorscale": [
             [
              0,
              "#0d0887"
             ],
             [
              0.1111111111111111,
              "#46039f"
             ],
             [
              0.2222222222222222,
              "#7201a8"
             ],
             [
              0.3333333333333333,
              "#9c179e"
             ],
             [
              0.4444444444444444,
              "#bd3786"
             ],
             [
              0.5555555555555556,
              "#d8576b"
             ],
             [
              0.6666666666666666,
              "#ed7953"
             ],
             [
              0.7777777777777778,
              "#fb9f3a"
             ],
             [
              0.8888888888888888,
              "#fdca26"
             ],
             [
              1,
              "#f0f921"
             ]
            ],
            "type": "histogram2dcontour"
           }
          ],
          "mesh3d": [
           {
            "colorbar": {
             "outlinewidth": 0,
             "ticks": ""
            },
            "type": "mesh3d"
           }
          ],
          "parcoords": [
           {
            "line": {
             "colorbar": {
              "outlinewidth": 0,
              "ticks": ""
             }
            },
            "type": "parcoords"
           }
          ],
          "pie": [
           {
            "automargin": true,
            "type": "pie"
           }
          ],
          "scatter": [
           {
            "fillpattern": {
             "fillmode": "overlay",
             "size": 10,
             "solidity": 0.2
            },
            "type": "scatter"
           }
          ],
          "scatter3d": [
           {
            "line": {
             "colorbar": {
              "outlinewidth": 0,
              "ticks": ""
             }
            },
            "marker": {
             "colorbar": {
              "outlinewidth": 0,
              "ticks": ""
             }
            },
            "type": "scatter3d"
           }
          ],
          "scattercarpet": [
           {
            "marker": {
             "colorbar": {
              "outlinewidth": 0,
              "ticks": ""
             }
            },
            "type": "scattercarpet"
           }
          ],
          "scattergeo": [
           {
            "marker": {
             "colorbar": {
              "outlinewidth": 0,
              "ticks": ""
             }
            },
            "type": "scattergeo"
           }
          ],
          "scattergl": [
           {
            "marker": {
             "colorbar": {
              "outlinewidth": 0,
              "ticks": ""
             }
            },
            "type": "scattergl"
           }
          ],
          "scattermap": [
           {
            "marker": {
             "colorbar": {
              "outlinewidth": 0,
              "ticks": ""
             }
            },
            "type": "scattermap"
           }
          ],
          "scattermapbox": [
           {
            "marker": {
             "colorbar": {
              "outlinewidth": 0,
              "ticks": ""
             }
            },
            "type": "scattermapbox"
           }
          ],
          "scatterpolar": [
           {
            "marker": {
             "colorbar": {
              "outlinewidth": 0,
              "ticks": ""
             }
            },
            "type": "scatterpolar"
           }
          ],
          "scatterpolargl": [
           {
            "marker": {
             "colorbar": {
              "outlinewidth": 0,
              "ticks": ""
             }
            },
            "type": "scatterpolargl"
           }
          ],
          "scatterternary": [
           {
            "marker": {
             "colorbar": {
              "outlinewidth": 0,
              "ticks": ""
             }
            },
            "type": "scatterternary"
           }
          ],
          "surface": [
           {
            "colorbar": {
             "outlinewidth": 0,
             "ticks": ""
            },
            "colorscale": [
             [
              0,
              "#0d0887"
             ],
             [
              0.1111111111111111,
              "#46039f"
             ],
             [
              0.2222222222222222,
              "#7201a8"
             ],
             [
              0.3333333333333333,
              "#9c179e"
             ],
             [
              0.4444444444444444,
              "#bd3786"
             ],
             [
              0.5555555555555556,
              "#d8576b"
             ],
             [
              0.6666666666666666,
              "#ed7953"
             ],
             [
              0.7777777777777778,
              "#fb9f3a"
             ],
             [
              0.8888888888888888,
              "#fdca26"
             ],
             [
              1,
              "#f0f921"
             ]
            ],
            "type": "surface"
           }
          ],
          "table": [
           {
            "cells": {
             "fill": {
              "color": "#EBF0F8"
             },
             "line": {
              "color": "white"
             }
            },
            "header": {
             "fill": {
              "color": "#C8D4E3"
             },
             "line": {
              "color": "white"
             }
            },
            "type": "table"
           }
          ]
         },
         "layout": {
          "annotationdefaults": {
           "arrowcolor": "#2a3f5f",
           "arrowhead": 0,
           "arrowwidth": 1
          },
          "autotypenumbers": "strict",
          "coloraxis": {
           "colorbar": {
            "outlinewidth": 0,
            "ticks": ""
           }
          },
          "colorscale": {
           "diverging": [
            [
             0,
             "#8e0152"
            ],
            [
             0.1,
             "#c51b7d"
            ],
            [
             0.2,
             "#de77ae"
            ],
            [
             0.3,
             "#f1b6da"
            ],
            [
             0.4,
             "#fde0ef"
            ],
            [
             0.5,
             "#f7f7f7"
            ],
            [
             0.6,
             "#e6f5d0"
            ],
            [
             0.7,
             "#b8e186"
            ],
            [
             0.8,
             "#7fbc41"
            ],
            [
             0.9,
             "#4d9221"
            ],
            [
             1,
             "#276419"
            ]
           ],
           "sequential": [
            [
             0,
             "#0d0887"
            ],
            [
             0.1111111111111111,
             "#46039f"
            ],
            [
             0.2222222222222222,
             "#7201a8"
            ],
            [
             0.3333333333333333,
             "#9c179e"
            ],
            [
             0.4444444444444444,
             "#bd3786"
            ],
            [
             0.5555555555555556,
             "#d8576b"
            ],
            [
             0.6666666666666666,
             "#ed7953"
            ],
            [
             0.7777777777777778,
             "#fb9f3a"
            ],
            [
             0.8888888888888888,
             "#fdca26"
            ],
            [
             1,
             "#f0f921"
            ]
           ],
           "sequentialminus": [
            [
             0,
             "#0d0887"
            ],
            [
             0.1111111111111111,
             "#46039f"
            ],
            [
             0.2222222222222222,
             "#7201a8"
            ],
            [
             0.3333333333333333,
             "#9c179e"
            ],
            [
             0.4444444444444444,
             "#bd3786"
            ],
            [
             0.5555555555555556,
             "#d8576b"
            ],
            [
             0.6666666666666666,
             "#ed7953"
            ],
            [
             0.7777777777777778,
             "#fb9f3a"
            ],
            [
             0.8888888888888888,
             "#fdca26"
            ],
            [
             1,
             "#f0f921"
            ]
           ]
          },
          "colorway": [
           "#636efa",
           "#EF553B",
           "#00cc96",
           "#ab63fa",
           "#FFA15A",
           "#19d3f3",
           "#FF6692",
           "#B6E880",
           "#FF97FF",
           "#FECB52"
          ],
          "font": {
           "color": "#2a3f5f"
          },
          "geo": {
           "bgcolor": "white",
           "lakecolor": "white",
           "landcolor": "#E5ECF6",
           "showlakes": true,
           "showland": true,
           "subunitcolor": "white"
          },
          "hoverlabel": {
           "align": "left"
          },
          "hovermode": "closest",
          "mapbox": {
           "style": "light"
          },
          "paper_bgcolor": "white",
          "plot_bgcolor": "#E5ECF6",
          "polar": {
           "angularaxis": {
            "gridcolor": "white",
            "linecolor": "white",
            "ticks": ""
           },
           "bgcolor": "#E5ECF6",
           "radialaxis": {
            "gridcolor": "white",
            "linecolor": "white",
            "ticks": ""
           }
          },
          "scene": {
           "xaxis": {
            "backgroundcolor": "#E5ECF6",
            "gridcolor": "white",
            "gridwidth": 2,
            "linecolor": "white",
            "showbackground": true,
            "ticks": "",
            "zerolinecolor": "white"
           },
           "yaxis": {
            "backgroundcolor": "#E5ECF6",
            "gridcolor": "white",
            "gridwidth": 2,
            "linecolor": "white",
            "showbackground": true,
            "ticks": "",
            "zerolinecolor": "white"
           },
           "zaxis": {
            "backgroundcolor": "#E5ECF6",
            "gridcolor": "white",
            "gridwidth": 2,
            "linecolor": "white",
            "showbackground": true,
            "ticks": "",
            "zerolinecolor": "white"
           }
          },
          "shapedefaults": {
           "line": {
            "color": "#2a3f5f"
           }
          },
          "ternary": {
           "aaxis": {
            "gridcolor": "white",
            "linecolor": "white",
            "ticks": ""
           },
           "baxis": {
            "gridcolor": "white",
            "linecolor": "white",
            "ticks": ""
           },
           "bgcolor": "#E5ECF6",
           "caxis": {
            "gridcolor": "white",
            "linecolor": "white",
            "ticks": ""
           }
          },
          "title": {
           "x": 0.05
          },
          "xaxis": {
           "automargin": true,
           "gridcolor": "white",
           "linecolor": "white",
           "ticks": "",
           "title": {
            "standoff": 15
           },
           "zerolinecolor": "white",
           "zerolinewidth": 2
          },
          "yaxis": {
           "automargin": true,
           "gridcolor": "white",
           "linecolor": "white",
           "ticks": "",
           "title": {
            "standoff": 15
           },
           "zerolinecolor": "white",
           "zerolinewidth": 2
          }
         }
        },
        "title": {
         "text": "Query Attention Bar Chart (Query: Token 0)"
        },
        "xaxis": {
         "title": {
          "text": "Attention Score"
         }
        },
        "yaxis": {
         "autorange": "reversed"
        }
       }
      }
     },
     "metadata": {},
     "output_type": "display_data"
    },
    {
     "data": {
      "text/plain": [
       "[('Token 1', np.float32(0.18112545)),\n",
       " ('Token 9', np.float32(0.1328953)),\n",
       " ('Token 6', np.float32(0.10583557)),\n",
       " ('Token 4', np.float32(0.09782209)),\n",
       " ('Token 2', np.float32(0.09562779)),\n",
       " ('Token 8', np.float32(0.08871104)),\n",
       " ('Token 5', np.float32(0.07485253)),\n",
       " ('Token 7', np.float32(0.066027746)),\n",
       " ('Token 3', np.float32(0.051933397))]"
      ]
     },
     "execution_count": 15,
     "metadata": {},
     "output_type": "execute_result"
    }
   ],
   "source": [
    "import plotly.graph_objects as go\n",
    "import numpy as np\n",
    "\n",
    "\n",
    "def plot_query_attention_bar_plotly(\n",
    "    attn_scores: np.ndarray,\n",
    "    query_index: int,\n",
    "    tokens=None,\n",
    "    title=\"Query Attention\",\n",
    ") -> list:\n",
    "\n",
    "    attn_scores = np.array(attn_scores)\n",
    "    seq_len = attn_scores.shape[0]\n",
    "\n",
    "    # 取出 query row\n",
    "    query_attn = attn_scores[query_index]\n",
    "\n",
    "    # 排除自己\n",
    "    indices = list(range(seq_len))\n",
    "    indices.remove(query_index)\n",
    "    values = query_attn[indices]\n",
    "\n",
    "    if tokens:\n",
    "        labels = [tokens[i] for i in indices]\n",
    "    else:\n",
    "        labels = [f\"Token {i}\" for i in indices]\n",
    "\n",
    "    # 排序\n",
    "    sorted_pairs = sorted(zip(labels, values), key=lambda x: x[1], reverse=True)\n",
    "    sorted_labels, sorted_values = zip(*sorted_pairs)\n",
    "\n",
    "    # 建立 Plotly 條形圖\n",
    "    fig = go.Figure(\n",
    "        go.Bar(\n",
    "            x=sorted_values,\n",
    "            y=sorted_labels,\n",
    "            orientation=\"h\",\n",
    "            marker=dict(\n",
    "                color=\"skyblue\",\n",
    "                line=dict(width=0),\n",
    "            ),\n",
    "            hoverinfo=\"x+y\",\n",
    "        )\n",
    "    )\n",
    "\n",
    "    fig.update_layout(\n",
    "        title=f\"{title} (Query: {tokens[query_index] if tokens else f'Token {query_index}'})\",\n",
    "        xaxis_title=\"Attention Score\",\n",
    "        yaxis=dict(autorange=\"reversed\"),\n",
    "        margin=dict(l=80, r=20, t=50, b=50),\n",
    "        height=400,\n",
    "    )\n",
    "\n",
    "    fig.show()\n",
    "    return sorted_pairs\n",
    "\n",
    "\n",
    "plot_query_attention_bar_plotly(\n",
    "    activs1[\"AttentionScore:0\"][0][data_id, head_id],\n",
    "    query_index=0,\n",
    "    tokens=[\n",
    "        f\"Token {i}\"\n",
    "        for i in range(activs1[\"AttentionScore:0\"][0][data_id, head_id].shape[0])\n",
    "    ],\n",
    "    title=\"Query Attention Bar Chart\",\n",
    ")"
   ]
  },
  {
   "cell_type": "code",
   "execution_count": null,
   "metadata": {},
   "outputs": [
    {
     "name": "stderr",
     "output_type": "stream",
     "text": [
      "/var/folders/5p/5d5cjs1n0sd8dhmpcjd35h0r0000gn/T/ipykernel_49061/2033480398.py:9: DeprecationWarning:\n",
      "\n",
      "__array__ implementation doesn't accept a copy keyword, so passing copy=False failed. __array__ must implement 'dtype' and 'copy' keyword arguments. To learn more, see the migration guide https://numpy.org/devdocs/numpy_2_0_migration_guide.html#adapting-to-changes-in-the-copy-keyword\n",
      "\n"
     ]
    },
    {
     "data": {
      "application/vnd.plotly.v1+json": {
       "config": {
        "plotlyServerURL": "https://plot.ly"
       },
       "data": [
        {
         "colorscale": [
          [
           0,
           "rgb(247,251,255)"
          ],
          [
           0.125,
           "rgb(222,235,247)"
          ],
          [
           0.25,
           "rgb(198,219,239)"
          ],
          [
           0.375,
           "rgb(158,202,225)"
          ],
          [
           0.5,
           "rgb(107,174,214)"
          ],
          [
           0.625,
           "rgb(66,146,198)"
          ],
          [
           0.75,
           "rgb(33,113,181)"
          ],
          [
           0.875,
           "rgb(8,81,156)"
          ],
          [
           1,
           "rgb(8,48,107)"
          ]
         ],
         "hoverinfo": "z",
         "reversescale": false,
         "showscale": false,
         "type": "heatmap",
         "x": [
          "Token 0",
          "Token 1",
          "Token 2",
          "Token 3",
          "Token 4",
          "Token 5",
          "Token 6",
          "Token 7",
          "Token 8",
          "Token 9"
         ],
         "y": [
          "Token 0",
          "Token 1",
          "Token 2",
          "Token 3",
          "Token 4",
          "Token 5",
          "Token 6",
          "Token 7",
          "Token 8",
          "Token 9"
         ],
         "z": {
          "bdata": "AAEAAAAAAAAAAQAAAAAAAAAAAAEAAQAAAAEAAAAAAAAAAQEBAAAAAAABAAAAAAABAAABAAEAAAAAAAAAAAAAAAABAAAAAQAAAAAAAQAAAQAAAAEBAAAAAQAAAQAAAAEAAAAAAA==",
          "dtype": "i1",
          "shape": "10, 10"
         }
        }
       ],
       "layout": {
        "annotations": [
         {
          "font": {
           "color": "#000000"
          },
          "showarrow": false,
          "text": "0",
          "x": "Token 0",
          "xref": "x",
          "y": "Token 0",
          "yref": "y"
         },
         {
          "font": {
           "color": "#FFFFFF"
          },
          "showarrow": false,
          "text": "1",
          "x": "Token 1",
          "xref": "x",
          "y": "Token 0",
          "yref": "y"
         },
         {
          "font": {
           "color": "#000000"
          },
          "showarrow": false,
          "text": "0",
          "x": "Token 2",
          "xref": "x",
          "y": "Token 0",
          "yref": "y"
         },
         {
          "font": {
           "color": "#000000"
          },
          "showarrow": false,
          "text": "0",
          "x": "Token 3",
          "xref": "x",
          "y": "Token 0",
          "yref": "y"
         },
         {
          "font": {
           "color": "#000000"
          },
          "showarrow": false,
          "text": "0",
          "x": "Token 4",
          "xref": "x",
          "y": "Token 0",
          "yref": "y"
         },
         {
          "font": {
           "color": "#000000"
          },
          "showarrow": false,
          "text": "0",
          "x": "Token 5",
          "xref": "x",
          "y": "Token 0",
          "yref": "y"
         },
         {
          "font": {
           "color": "#000000"
          },
          "showarrow": false,
          "text": "0",
          "x": "Token 6",
          "xref": "x",
          "y": "Token 0",
          "yref": "y"
         },
         {
          "font": {
           "color": "#000000"
          },
          "showarrow": false,
          "text": "0",
          "x": "Token 7",
          "xref": "x",
          "y": "Token 0",
          "yref": "y"
         },
         {
          "font": {
           "color": "#000000"
          },
          "showarrow": false,
          "text": "0",
          "x": "Token 8",
          "xref": "x",
          "y": "Token 0",
          "yref": "y"
         },
         {
          "font": {
           "color": "#FFFFFF"
          },
          "showarrow": false,
          "text": "1",
          "x": "Token 9",
          "xref": "x",
          "y": "Token 0",
          "yref": "y"
         },
         {
          "font": {
           "color": "#000000"
          },
          "showarrow": false,
          "text": "0",
          "x": "Token 0",
          "xref": "x",
          "y": "Token 1",
          "yref": "y"
         },
         {
          "font": {
           "color": "#000000"
          },
          "showarrow": false,
          "text": "0",
          "x": "Token 1",
          "xref": "x",
          "y": "Token 1",
          "yref": "y"
         },
         {
          "font": {
           "color": "#000000"
          },
          "showarrow": false,
          "text": "0",
          "x": "Token 2",
          "xref": "x",
          "y": "Token 1",
          "yref": "y"
         },
         {
          "font": {
           "color": "#000000"
          },
          "showarrow": false,
          "text": "0",
          "x": "Token 3",
          "xref": "x",
          "y": "Token 1",
          "yref": "y"
         },
         {
          "font": {
           "color": "#000000"
          },
          "showarrow": false,
          "text": "0",
          "x": "Token 4",
          "xref": "x",
          "y": "Token 1",
          "yref": "y"
         },
         {
          "font": {
           "color": "#000000"
          },
          "showarrow": false,
          "text": "0",
          "x": "Token 5",
          "xref": "x",
          "y": "Token 1",
          "yref": "y"
         },
         {
          "font": {
           "color": "#000000"
          },
          "showarrow": false,
          "text": "0",
          "x": "Token 6",
          "xref": "x",
          "y": "Token 1",
          "yref": "y"
         },
         {
          "font": {
           "color": "#000000"
          },
          "showarrow": false,
          "text": "0",
          "x": "Token 7",
          "xref": "x",
          "y": "Token 1",
          "yref": "y"
         },
         {
          "font": {
           "color": "#000000"
          },
          "showarrow": false,
          "text": "0",
          "x": "Token 8",
          "xref": "x",
          "y": "Token 1",
          "yref": "y"
         },
         {
          "font": {
           "color": "#FFFFFF"
          },
          "showarrow": false,
          "text": "1",
          "x": "Token 9",
          "xref": "x",
          "y": "Token 1",
          "yref": "y"
         },
         {
          "font": {
           "color": "#000000"
          },
          "showarrow": false,
          "text": "0",
          "x": "Token 0",
          "xref": "x",
          "y": "Token 2",
          "yref": "y"
         },
         {
          "font": {
           "color": "#FFFFFF"
          },
          "showarrow": false,
          "text": "1",
          "x": "Token 1",
          "xref": "x",
          "y": "Token 2",
          "yref": "y"
         },
         {
          "font": {
           "color": "#000000"
          },
          "showarrow": false,
          "text": "0",
          "x": "Token 2",
          "xref": "x",
          "y": "Token 2",
          "yref": "y"
         },
         {
          "font": {
           "color": "#000000"
          },
          "showarrow": false,
          "text": "0",
          "x": "Token 3",
          "xref": "x",
          "y": "Token 2",
          "yref": "y"
         },
         {
          "font": {
           "color": "#000000"
          },
          "showarrow": false,
          "text": "0",
          "x": "Token 4",
          "xref": "x",
          "y": "Token 2",
          "yref": "y"
         },
         {
          "font": {
           "color": "#FFFFFF"
          },
          "showarrow": false,
          "text": "1",
          "x": "Token 5",
          "xref": "x",
          "y": "Token 2",
          "yref": "y"
         },
         {
          "font": {
           "color": "#000000"
          },
          "showarrow": false,
          "text": "0",
          "x": "Token 6",
          "xref": "x",
          "y": "Token 2",
          "yref": "y"
         },
         {
          "font": {
           "color": "#000000"
          },
          "showarrow": false,
          "text": "0",
          "x": "Token 7",
          "xref": "x",
          "y": "Token 2",
          "yref": "y"
         },
         {
          "font": {
           "color": "#000000"
          },
          "showarrow": false,
          "text": "0",
          "x": "Token 8",
          "xref": "x",
          "y": "Token 2",
          "yref": "y"
         },
         {
          "font": {
           "color": "#000000"
          },
          "showarrow": false,
          "text": "0",
          "x": "Token 9",
          "xref": "x",
          "y": "Token 2",
          "yref": "y"
         },
         {
          "font": {
           "color": "#000000"
          },
          "showarrow": false,
          "text": "0",
          "x": "Token 0",
          "xref": "x",
          "y": "Token 3",
          "yref": "y"
         },
         {
          "font": {
           "color": "#000000"
          },
          "showarrow": false,
          "text": "0",
          "x": "Token 1",
          "xref": "x",
          "y": "Token 3",
          "yref": "y"
         },
         {
          "font": {
           "color": "#000000"
          },
          "showarrow": false,
          "text": "0",
          "x": "Token 2",
          "xref": "x",
          "y": "Token 3",
          "yref": "y"
         },
         {
          "font": {
           "color": "#FFFFFF"
          },
          "showarrow": false,
          "text": "1",
          "x": "Token 3",
          "xref": "x",
          "y": "Token 3",
          "yref": "y"
         },
         {
          "font": {
           "color": "#FFFFFF"
          },
          "showarrow": false,
          "text": "1",
          "x": "Token 4",
          "xref": "x",
          "y": "Token 3",
          "yref": "y"
         },
         {
          "font": {
           "color": "#FFFFFF"
          },
          "showarrow": false,
          "text": "1",
          "x": "Token 5",
          "xref": "x",
          "y": "Token 3",
          "yref": "y"
         },
         {
          "font": {
           "color": "#000000"
          },
          "showarrow": false,
          "text": "0",
          "x": "Token 6",
          "xref": "x",
          "y": "Token 3",
          "yref": "y"
         },
         {
          "font": {
           "color": "#000000"
          },
          "showarrow": false,
          "text": "0",
          "x": "Token 7",
          "xref": "x",
          "y": "Token 3",
          "yref": "y"
         },
         {
          "font": {
           "color": "#000000"
          },
          "showarrow": false,
          "text": "0",
          "x": "Token 8",
          "xref": "x",
          "y": "Token 3",
          "yref": "y"
         },
         {
          "font": {
           "color": "#000000"
          },
          "showarrow": false,
          "text": "0",
          "x": "Token 9",
          "xref": "x",
          "y": "Token 3",
          "yref": "y"
         },
         {
          "font": {
           "color": "#000000"
          },
          "showarrow": false,
          "text": "0",
          "x": "Token 0",
          "xref": "x",
          "y": "Token 4",
          "yref": "y"
         },
         {
          "font": {
           "color": "#FFFFFF"
          },
          "showarrow": false,
          "text": "1",
          "x": "Token 1",
          "xref": "x",
          "y": "Token 4",
          "yref": "y"
         },
         {
          "font": {
           "color": "#000000"
          },
          "showarrow": false,
          "text": "0",
          "x": "Token 2",
          "xref": "x",
          "y": "Token 4",
          "yref": "y"
         },
         {
          "font": {
           "color": "#000000"
          },
          "showarrow": false,
          "text": "0",
          "x": "Token 3",
          "xref": "x",
          "y": "Token 4",
          "yref": "y"
         },
         {
          "font": {
           "color": "#000000"
          },
          "showarrow": false,
          "text": "0",
          "x": "Token 4",
          "xref": "x",
          "y": "Token 4",
          "yref": "y"
         },
         {
          "font": {
           "color": "#000000"
          },
          "showarrow": false,
          "text": "0",
          "x": "Token 5",
          "xref": "x",
          "y": "Token 4",
          "yref": "y"
         },
         {
          "font": {
           "color": "#000000"
          },
          "showarrow": false,
          "text": "0",
          "x": "Token 6",
          "xref": "x",
          "y": "Token 4",
          "yref": "y"
         },
         {
          "font": {
           "color": "#FFFFFF"
          },
          "showarrow": false,
          "text": "1",
          "x": "Token 7",
          "xref": "x",
          "y": "Token 4",
          "yref": "y"
         },
         {
          "font": {
           "color": "#000000"
          },
          "showarrow": false,
          "text": "0",
          "x": "Token 8",
          "xref": "x",
          "y": "Token 4",
          "yref": "y"
         },
         {
          "font": {
           "color": "#000000"
          },
          "showarrow": false,
          "text": "0",
          "x": "Token 9",
          "xref": "x",
          "y": "Token 4",
          "yref": "y"
         },
         {
          "font": {
           "color": "#FFFFFF"
          },
          "showarrow": false,
          "text": "1",
          "x": "Token 0",
          "xref": "x",
          "y": "Token 5",
          "yref": "y"
         },
         {
          "font": {
           "color": "#000000"
          },
          "showarrow": false,
          "text": "0",
          "x": "Token 1",
          "xref": "x",
          "y": "Token 5",
          "yref": "y"
         },
         {
          "font": {
           "color": "#FFFFFF"
          },
          "showarrow": false,
          "text": "1",
          "x": "Token 2",
          "xref": "x",
          "y": "Token 5",
          "yref": "y"
         },
         {
          "font": {
           "color": "#000000"
          },
          "showarrow": false,
          "text": "0",
          "x": "Token 3",
          "xref": "x",
          "y": "Token 5",
          "yref": "y"
         },
         {
          "font": {
           "color": "#000000"
          },
          "showarrow": false,
          "text": "0",
          "x": "Token 4",
          "xref": "x",
          "y": "Token 5",
          "yref": "y"
         },
         {
          "font": {
           "color": "#000000"
          },
          "showarrow": false,
          "text": "0",
          "x": "Token 5",
          "xref": "x",
          "y": "Token 5",
          "yref": "y"
         },
         {
          "font": {
           "color": "#000000"
          },
          "showarrow": false,
          "text": "0",
          "x": "Token 6",
          "xref": "x",
          "y": "Token 5",
          "yref": "y"
         },
         {
          "font": {
           "color": "#000000"
          },
          "showarrow": false,
          "text": "0",
          "x": "Token 7",
          "xref": "x",
          "y": "Token 5",
          "yref": "y"
         },
         {
          "font": {
           "color": "#000000"
          },
          "showarrow": false,
          "text": "0",
          "x": "Token 8",
          "xref": "x",
          "y": "Token 5",
          "yref": "y"
         },
         {
          "font": {
           "color": "#000000"
          },
          "showarrow": false,
          "text": "0",
          "x": "Token 9",
          "xref": "x",
          "y": "Token 5",
          "yref": "y"
         },
         {
          "font": {
           "color": "#000000"
          },
          "showarrow": false,
          "text": "0",
          "x": "Token 0",
          "xref": "x",
          "y": "Token 6",
          "yref": "y"
         },
         {
          "font": {
           "color": "#000000"
          },
          "showarrow": false,
          "text": "0",
          "x": "Token 1",
          "xref": "x",
          "y": "Token 6",
          "yref": "y"
         },
         {
          "font": {
           "color": "#000000"
          },
          "showarrow": false,
          "text": "0",
          "x": "Token 2",
          "xref": "x",
          "y": "Token 6",
          "yref": "y"
         },
         {
          "font": {
           "color": "#000000"
          },
          "showarrow": false,
          "text": "0",
          "x": "Token 3",
          "xref": "x",
          "y": "Token 6",
          "yref": "y"
         },
         {
          "font": {
           "color": "#000000"
          },
          "showarrow": false,
          "text": "0",
          "x": "Token 4",
          "xref": "x",
          "y": "Token 6",
          "yref": "y"
         },
         {
          "font": {
           "color": "#FFFFFF"
          },
          "showarrow": false,
          "text": "1",
          "x": "Token 5",
          "xref": "x",
          "y": "Token 6",
          "yref": "y"
         },
         {
          "font": {
           "color": "#000000"
          },
          "showarrow": false,
          "text": "0",
          "x": "Token 6",
          "xref": "x",
          "y": "Token 6",
          "yref": "y"
         },
         {
          "font": {
           "color": "#000000"
          },
          "showarrow": false,
          "text": "0",
          "x": "Token 7",
          "xref": "x",
          "y": "Token 6",
          "yref": "y"
         },
         {
          "font": {
           "color": "#000000"
          },
          "showarrow": false,
          "text": "0",
          "x": "Token 8",
          "xref": "x",
          "y": "Token 6",
          "yref": "y"
         },
         {
          "font": {
           "color": "#FFFFFF"
          },
          "showarrow": false,
          "text": "1",
          "x": "Token 9",
          "xref": "x",
          "y": "Token 6",
          "yref": "y"
         },
         {
          "font": {
           "color": "#000000"
          },
          "showarrow": false,
          "text": "0",
          "x": "Token 0",
          "xref": "x",
          "y": "Token 7",
          "yref": "y"
         },
         {
          "font": {
           "color": "#000000"
          },
          "showarrow": false,
          "text": "0",
          "x": "Token 1",
          "xref": "x",
          "y": "Token 7",
          "yref": "y"
         },
         {
          "font": {
           "color": "#000000"
          },
          "showarrow": false,
          "text": "0",
          "x": "Token 2",
          "xref": "x",
          "y": "Token 7",
          "yref": "y"
         },
         {
          "font": {
           "color": "#000000"
          },
          "showarrow": false,
          "text": "0",
          "x": "Token 3",
          "xref": "x",
          "y": "Token 7",
          "yref": "y"
         },
         {
          "font": {
           "color": "#000000"
          },
          "showarrow": false,
          "text": "0",
          "x": "Token 4",
          "xref": "x",
          "y": "Token 7",
          "yref": "y"
         },
         {
          "font": {
           "color": "#FFFFFF"
          },
          "showarrow": false,
          "text": "1",
          "x": "Token 5",
          "xref": "x",
          "y": "Token 7",
          "yref": "y"
         },
         {
          "font": {
           "color": "#000000"
          },
          "showarrow": false,
          "text": "0",
          "x": "Token 6",
          "xref": "x",
          "y": "Token 7",
          "yref": "y"
         },
         {
          "font": {
           "color": "#000000"
          },
          "showarrow": false,
          "text": "0",
          "x": "Token 7",
          "xref": "x",
          "y": "Token 7",
          "yref": "y"
         },
         {
          "font": {
           "color": "#FFFFFF"
          },
          "showarrow": false,
          "text": "1",
          "x": "Token 8",
          "xref": "x",
          "y": "Token 7",
          "yref": "y"
         },
         {
          "font": {
           "color": "#000000"
          },
          "showarrow": false,
          "text": "0",
          "x": "Token 9",
          "xref": "x",
          "y": "Token 7",
          "yref": "y"
         },
         {
          "font": {
           "color": "#000000"
          },
          "showarrow": false,
          "text": "0",
          "x": "Token 0",
          "xref": "x",
          "y": "Token 8",
          "yref": "y"
         },
         {
          "font": {
           "color": "#000000"
          },
          "showarrow": false,
          "text": "0",
          "x": "Token 1",
          "xref": "x",
          "y": "Token 8",
          "yref": "y"
         },
         {
          "font": {
           "color": "#FFFFFF"
          },
          "showarrow": false,
          "text": "1",
          "x": "Token 2",
          "xref": "x",
          "y": "Token 8",
          "yref": "y"
         },
         {
          "font": {
           "color": "#FFFFFF"
          },
          "showarrow": false,
          "text": "1",
          "x": "Token 3",
          "xref": "x",
          "y": "Token 8",
          "yref": "y"
         },
         {
          "font": {
           "color": "#000000"
          },
          "showarrow": false,
          "text": "0",
          "x": "Token 4",
          "xref": "x",
          "y": "Token 8",
          "yref": "y"
         },
         {
          "font": {
           "color": "#000000"
          },
          "showarrow": false,
          "text": "0",
          "x": "Token 5",
          "xref": "x",
          "y": "Token 8",
          "yref": "y"
         },
         {
          "font": {
           "color": "#000000"
          },
          "showarrow": false,
          "text": "0",
          "x": "Token 6",
          "xref": "x",
          "y": "Token 8",
          "yref": "y"
         },
         {
          "font": {
           "color": "#FFFFFF"
          },
          "showarrow": false,
          "text": "1",
          "x": "Token 7",
          "xref": "x",
          "y": "Token 8",
          "yref": "y"
         },
         {
          "font": {
           "color": "#000000"
          },
          "showarrow": false,
          "text": "0",
          "x": "Token 8",
          "xref": "x",
          "y": "Token 8",
          "yref": "y"
         },
         {
          "font": {
           "color": "#000000"
          },
          "showarrow": false,
          "text": "0",
          "x": "Token 9",
          "xref": "x",
          "y": "Token 8",
          "yref": "y"
         },
         {
          "font": {
           "color": "#FFFFFF"
          },
          "showarrow": false,
          "text": "1",
          "x": "Token 0",
          "xref": "x",
          "y": "Token 9",
          "yref": "y"
         },
         {
          "font": {
           "color": "#000000"
          },
          "showarrow": false,
          "text": "0",
          "x": "Token 1",
          "xref": "x",
          "y": "Token 9",
          "yref": "y"
         },
         {
          "font": {
           "color": "#000000"
          },
          "showarrow": false,
          "text": "0",
          "x": "Token 2",
          "xref": "x",
          "y": "Token 9",
          "yref": "y"
         },
         {
          "font": {
           "color": "#000000"
          },
          "showarrow": false,
          "text": "0",
          "x": "Token 3",
          "xref": "x",
          "y": "Token 9",
          "yref": "y"
         },
         {
          "font": {
           "color": "#FFFFFF"
          },
          "showarrow": false,
          "text": "1",
          "x": "Token 4",
          "xref": "x",
          "y": "Token 9",
          "yref": "y"
         },
         {
          "font": {
           "color": "#000000"
          },
          "showarrow": false,
          "text": "0",
          "x": "Token 5",
          "xref": "x",
          "y": "Token 9",
          "yref": "y"
         },
         {
          "font": {
           "color": "#000000"
          },
          "showarrow": false,
          "text": "0",
          "x": "Token 6",
          "xref": "x",
          "y": "Token 9",
          "yref": "y"
         },
         {
          "font": {
           "color": "#000000"
          },
          "showarrow": false,
          "text": "0",
          "x": "Token 7",
          "xref": "x",
          "y": "Token 9",
          "yref": "y"
         },
         {
          "font": {
           "color": "#000000"
          },
          "showarrow": false,
          "text": "0",
          "x": "Token 8",
          "xref": "x",
          "y": "Token 9",
          "yref": "y"
         },
         {
          "font": {
           "color": "#000000"
          },
          "showarrow": false,
          "text": "0",
          "x": "Token 9",
          "xref": "x",
          "y": "Token 9",
          "yref": "y"
         }
        ],
        "height": 600,
        "margin": {
         "b": 100,
         "l": 80,
         "r": 20,
         "t": 50
        },
        "template": {
         "data": {
          "bar": [
           {
            "error_x": {
             "color": "#2a3f5f"
            },
            "error_y": {
             "color": "#2a3f5f"
            },
            "marker": {
             "line": {
              "color": "#E5ECF6",
              "width": 0.5
             },
             "pattern": {
              "fillmode": "overlay",
              "size": 10,
              "solidity": 0.2
             }
            },
            "type": "bar"
           }
          ],
          "barpolar": [
           {
            "marker": {
             "line": {
              "color": "#E5ECF6",
              "width": 0.5
             },
             "pattern": {
              "fillmode": "overlay",
              "size": 10,
              "solidity": 0.2
             }
            },
            "type": "barpolar"
           }
          ],
          "carpet": [
           {
            "aaxis": {
             "endlinecolor": "#2a3f5f",
             "gridcolor": "white",
             "linecolor": "white",
             "minorgridcolor": "white",
             "startlinecolor": "#2a3f5f"
            },
            "baxis": {
             "endlinecolor": "#2a3f5f",
             "gridcolor": "white",
             "linecolor": "white",
             "minorgridcolor": "white",
             "startlinecolor": "#2a3f5f"
            },
            "type": "carpet"
           }
          ],
          "choropleth": [
           {
            "colorbar": {
             "outlinewidth": 0,
             "ticks": ""
            },
            "type": "choropleth"
           }
          ],
          "contour": [
           {
            "colorbar": {
             "outlinewidth": 0,
             "ticks": ""
            },
            "colorscale": [
             [
              0,
              "#0d0887"
             ],
             [
              0.1111111111111111,
              "#46039f"
             ],
             [
              0.2222222222222222,
              "#7201a8"
             ],
             [
              0.3333333333333333,
              "#9c179e"
             ],
             [
              0.4444444444444444,
              "#bd3786"
             ],
             [
              0.5555555555555556,
              "#d8576b"
             ],
             [
              0.6666666666666666,
              "#ed7953"
             ],
             [
              0.7777777777777778,
              "#fb9f3a"
             ],
             [
              0.8888888888888888,
              "#fdca26"
             ],
             [
              1,
              "#f0f921"
             ]
            ],
            "type": "contour"
           }
          ],
          "contourcarpet": [
           {
            "colorbar": {
             "outlinewidth": 0,
             "ticks": ""
            },
            "type": "contourcarpet"
           }
          ],
          "heatmap": [
           {
            "colorbar": {
             "outlinewidth": 0,
             "ticks": ""
            },
            "colorscale": [
             [
              0,
              "#0d0887"
             ],
             [
              0.1111111111111111,
              "#46039f"
             ],
             [
              0.2222222222222222,
              "#7201a8"
             ],
             [
              0.3333333333333333,
              "#9c179e"
             ],
             [
              0.4444444444444444,
              "#bd3786"
             ],
             [
              0.5555555555555556,
              "#d8576b"
             ],
             [
              0.6666666666666666,
              "#ed7953"
             ],
             [
              0.7777777777777778,
              "#fb9f3a"
             ],
             [
              0.8888888888888888,
              "#fdca26"
             ],
             [
              1,
              "#f0f921"
             ]
            ],
            "type": "heatmap"
           }
          ],
          "histogram": [
           {
            "marker": {
             "pattern": {
              "fillmode": "overlay",
              "size": 10,
              "solidity": 0.2
             }
            },
            "type": "histogram"
           }
          ],
          "histogram2d": [
           {
            "colorbar": {
             "outlinewidth": 0,
             "ticks": ""
            },
            "colorscale": [
             [
              0,
              "#0d0887"
             ],
             [
              0.1111111111111111,
              "#46039f"
             ],
             [
              0.2222222222222222,
              "#7201a8"
             ],
             [
              0.3333333333333333,
              "#9c179e"
             ],
             [
              0.4444444444444444,
              "#bd3786"
             ],
             [
              0.5555555555555556,
              "#d8576b"
             ],
             [
              0.6666666666666666,
              "#ed7953"
             ],
             [
              0.7777777777777778,
              "#fb9f3a"
             ],
             [
              0.8888888888888888,
              "#fdca26"
             ],
             [
              1,
              "#f0f921"
             ]
            ],
            "type": "histogram2d"
           }
          ],
          "histogram2dcontour": [
           {
            "colorbar": {
             "outlinewidth": 0,
             "ticks": ""
            },
            "colorscale": [
             [
              0,
              "#0d0887"
             ],
             [
              0.1111111111111111,
              "#46039f"
             ],
             [
              0.2222222222222222,
              "#7201a8"
             ],
             [
              0.3333333333333333,
              "#9c179e"
             ],
             [
              0.4444444444444444,
              "#bd3786"
             ],
             [
              0.5555555555555556,
              "#d8576b"
             ],
             [
              0.6666666666666666,
              "#ed7953"
             ],
             [
              0.7777777777777778,
              "#fb9f3a"
             ],
             [
              0.8888888888888888,
              "#fdca26"
             ],
             [
              1,
              "#f0f921"
             ]
            ],
            "type": "histogram2dcontour"
           }
          ],
          "mesh3d": [
           {
            "colorbar": {
             "outlinewidth": 0,
             "ticks": ""
            },
            "type": "mesh3d"
           }
          ],
          "parcoords": [
           {
            "line": {
             "colorbar": {
              "outlinewidth": 0,
              "ticks": ""
             }
            },
            "type": "parcoords"
           }
          ],
          "pie": [
           {
            "automargin": true,
            "type": "pie"
           }
          ],
          "scatter": [
           {
            "fillpattern": {
             "fillmode": "overlay",
             "size": 10,
             "solidity": 0.2
            },
            "type": "scatter"
           }
          ],
          "scatter3d": [
           {
            "line": {
             "colorbar": {
              "outlinewidth": 0,
              "ticks": ""
             }
            },
            "marker": {
             "colorbar": {
              "outlinewidth": 0,
              "ticks": ""
             }
            },
            "type": "scatter3d"
           }
          ],
          "scattercarpet": [
           {
            "marker": {
             "colorbar": {
              "outlinewidth": 0,
              "ticks": ""
             }
            },
            "type": "scattercarpet"
           }
          ],
          "scattergeo": [
           {
            "marker": {
             "colorbar": {
              "outlinewidth": 0,
              "ticks": ""
             }
            },
            "type": "scattergeo"
           }
          ],
          "scattergl": [
           {
            "marker": {
             "colorbar": {
              "outlinewidth": 0,
              "ticks": ""
             }
            },
            "type": "scattergl"
           }
          ],
          "scattermap": [
           {
            "marker": {
             "colorbar": {
              "outlinewidth": 0,
              "ticks": ""
             }
            },
            "type": "scattermap"
           }
          ],
          "scattermapbox": [
           {
            "marker": {
             "colorbar": {
              "outlinewidth": 0,
              "ticks": ""
             }
            },
            "type": "scattermapbox"
           }
          ],
          "scatterpolar": [
           {
            "marker": {
             "colorbar": {
              "outlinewidth": 0,
              "ticks": ""
             }
            },
            "type": "scatterpolar"
           }
          ],
          "scatterpolargl": [
           {
            "marker": {
             "colorbar": {
              "outlinewidth": 0,
              "ticks": ""
             }
            },
            "type": "scatterpolargl"
           }
          ],
          "scatterternary": [
           {
            "marker": {
             "colorbar": {
              "outlinewidth": 0,
              "ticks": ""
             }
            },
            "type": "scatterternary"
           }
          ],
          "surface": [
           {
            "colorbar": {
             "outlinewidth": 0,
             "ticks": ""
            },
            "colorscale": [
             [
              0,
              "#0d0887"
             ],
             [
              0.1111111111111111,
              "#46039f"
             ],
             [
              0.2222222222222222,
              "#7201a8"
             ],
             [
              0.3333333333333333,
              "#9c179e"
             ],
             [
              0.4444444444444444,
              "#bd3786"
             ],
             [
              0.5555555555555556,
              "#d8576b"
             ],
             [
              0.6666666666666666,
              "#ed7953"
             ],
             [
              0.7777777777777778,
              "#fb9f3a"
             ],
             [
              0.8888888888888888,
              "#fdca26"
             ],
             [
              1,
              "#f0f921"
             ]
            ],
            "type": "surface"
           }
          ],
          "table": [
           {
            "cells": {
             "fill": {
              "color": "#EBF0F8"
             },
             "line": {
              "color": "white"
             }
            },
            "header": {
             "fill": {
              "color": "#C8D4E3"
             },
             "line": {
              "color": "white"
             }
            },
            "type": "table"
           }
          ]
         },
         "layout": {
          "annotationdefaults": {
           "arrowcolor": "#2a3f5f",
           "arrowhead": 0,
           "arrowwidth": 1
          },
          "autotypenumbers": "strict",
          "coloraxis": {
           "colorbar": {
            "outlinewidth": 0,
            "ticks": ""
           }
          },
          "colorscale": {
           "diverging": [
            [
             0,
             "#8e0152"
            ],
            [
             0.1,
             "#c51b7d"
            ],
            [
             0.2,
             "#de77ae"
            ],
            [
             0.3,
             "#f1b6da"
            ],
            [
             0.4,
             "#fde0ef"
            ],
            [
             0.5,
             "#f7f7f7"
            ],
            [
             0.6,
             "#e6f5d0"
            ],
            [
             0.7,
             "#b8e186"
            ],
            [
             0.8,
             "#7fbc41"
            ],
            [
             0.9,
             "#4d9221"
            ],
            [
             1,
             "#276419"
            ]
           ],
           "sequential": [
            [
             0,
             "#0d0887"
            ],
            [
             0.1111111111111111,
             "#46039f"
            ],
            [
             0.2222222222222222,
             "#7201a8"
            ],
            [
             0.3333333333333333,
             "#9c179e"
            ],
            [
             0.4444444444444444,
             "#bd3786"
            ],
            [
             0.5555555555555556,
             "#d8576b"
            ],
            [
             0.6666666666666666,
             "#ed7953"
            ],
            [
             0.7777777777777778,
             "#fb9f3a"
            ],
            [
             0.8888888888888888,
             "#fdca26"
            ],
            [
             1,
             "#f0f921"
            ]
           ],
           "sequentialminus": [
            [
             0,
             "#0d0887"
            ],
            [
             0.1111111111111111,
             "#46039f"
            ],
            [
             0.2222222222222222,
             "#7201a8"
            ],
            [
             0.3333333333333333,
             "#9c179e"
            ],
            [
             0.4444444444444444,
             "#bd3786"
            ],
            [
             0.5555555555555556,
             "#d8576b"
            ],
            [
             0.6666666666666666,
             "#ed7953"
            ],
            [
             0.7777777777777778,
             "#fb9f3a"
            ],
            [
             0.8888888888888888,
             "#fdca26"
            ],
            [
             1,
             "#f0f921"
            ]
           ]
          },
          "colorway": [
           "#636efa",
           "#EF553B",
           "#00cc96",
           "#ab63fa",
           "#FFA15A",
           "#19d3f3",
           "#FF6692",
           "#B6E880",
           "#FF97FF",
           "#FECB52"
          ],
          "font": {
           "color": "#2a3f5f"
          },
          "geo": {
           "bgcolor": "white",
           "lakecolor": "white",
           "landcolor": "#E5ECF6",
           "showlakes": true,
           "showland": true,
           "subunitcolor": "white"
          },
          "hoverlabel": {
           "align": "left"
          },
          "hovermode": "closest",
          "mapbox": {
           "style": "light"
          },
          "paper_bgcolor": "white",
          "plot_bgcolor": "#E5ECF6",
          "polar": {
           "angularaxis": {
            "gridcolor": "white",
            "linecolor": "white",
            "ticks": ""
           },
           "bgcolor": "#E5ECF6",
           "radialaxis": {
            "gridcolor": "white",
            "linecolor": "white",
            "ticks": ""
           }
          },
          "scene": {
           "xaxis": {
            "backgroundcolor": "#E5ECF6",
            "gridcolor": "white",
            "gridwidth": 2,
            "linecolor": "white",
            "showbackground": true,
            "ticks": "",
            "zerolinecolor": "white"
           },
           "yaxis": {
            "backgroundcolor": "#E5ECF6",
            "gridcolor": "white",
            "gridwidth": 2,
            "linecolor": "white",
            "showbackground": true,
            "ticks": "",
            "zerolinecolor": "white"
           },
           "zaxis": {
            "backgroundcolor": "#E5ECF6",
            "gridcolor": "white",
            "gridwidth": 2,
            "linecolor": "white",
            "showbackground": true,
            "ticks": "",
            "zerolinecolor": "white"
           }
          },
          "shapedefaults": {
           "line": {
            "color": "#2a3f5f"
           }
          },
          "ternary": {
           "aaxis": {
            "gridcolor": "white",
            "linecolor": "white",
            "ticks": ""
           },
           "baxis": {
            "gridcolor": "white",
            "linecolor": "white",
            "ticks": ""
           },
           "bgcolor": "#E5ECF6",
           "caxis": {
            "gridcolor": "white",
            "linecolor": "white",
            "ticks": ""
           }
          },
          "title": {
           "x": 0.05
          },
          "xaxis": {
           "automargin": true,
           "gridcolor": "white",
           "linecolor": "white",
           "ticks": "",
           "title": {
            "standoff": 15
           },
           "zerolinecolor": "white",
           "zerolinewidth": 2
          },
          "yaxis": {
           "automargin": true,
           "gridcolor": "white",
           "linecolor": "white",
           "ticks": "",
           "title": {
            "standoff": 15
           },
           "zerolinecolor": "white",
           "zerolinewidth": 2
          }
         }
        },
        "title": {
         "text": "Binary Attention Map for Head 0 (threshold = 0.12)"
        },
        "width": 600,
        "xaxis": {
         "dtick": 1,
         "gridcolor": "rgb(0, 0, 0)",
         "side": "bottom",
         "tickangle": 90,
         "tickfont": {
          "size": 10
         },
         "ticks": "",
         "title": {
          "standoff": 10,
          "text": "Key"
         }
        },
        "yaxis": {
         "dtick": 1,
         "ticks": "",
         "ticksuffix": "  ",
         "title": {
          "text": "Query"
         }
        }
       }
      }
     },
     "metadata": {},
     "output_type": "display_data"
    }
   ],
   "source": [
    "import plotly.figure_factory as ff\n",
    "\n",
    "\n",
    "def plot_binary_attention_plotly(\n",
    "    attn_scores: np.ndarray,\n",
    "    threshold: float,\n",
    "    tokens: list = None,\n",
    "    title: str = \"Binary Attention Map\",\n",
    "):\n",
    "    attn_scores = np.array(attn_scores)\n",
    "    binary_matrix = (attn_scores >= threshold).astype(int)\n",
    "\n",
    "    # 預設 token 標籤\n",
    "    if tokens is None:\n",
    "        tokens = [f\"Token {i}\" for i in range(binary_matrix.shape[0])]\n",
    "\n",
    "    z_text = [[str(cell) for cell in row] for row in binary_matrix]\n",
    "\n",
    "    fig = ff.create_annotated_heatmap(\n",
    "        z=binary_matrix,\n",
    "        x=tokens,\n",
    "        y=tokens,\n",
    "        annotation_text=z_text,\n",
    "        colorscale=\"Blues\",\n",
    "        showscale=False,\n",
    "        hoverinfo=\"z\",\n",
    "    )\n",
    "\n",
    "    fig.update_layout(\n",
    "        title=f\"{title} (threshold = {threshold})\",\n",
    "        xaxis_title=\"Key\",\n",
    "        yaxis_title=\"Query\",\n",
    "        xaxis=dict(\n",
    "            tickangle=90,\n",
    "            side=\"bottom\",  # 確保出現在下方\n",
    "            tickfont=dict(size=10),  # 字體大小調整\n",
    "            title_standoff=10,  # 與 xaxis_title 的距離\n",
    "        ),\n",
    "        width=600,\n",
    "        height=600,\n",
    "        margin=dict(l=80, r=20, t=50, b=100),  # 加大 bottom margin\n",
    "    )\n",
    "\n",
    "    fig.show()\n",
    "\n",
    "\n",
    "plot_binary_attention_plotly(\n",
    "    activs1[\"AttentionScore:0\"][0][data_id, head_id],\n",
    "    threshold=0.12,\n",
    "    tokens=[\n",
    "        f\"Token {i}\"\n",
    "        for i in range(activs1[\"AttentionScore:0\"][0][data_id, head_id].shape[0])\n",
    "    ],\n",
    "    title=\"Binary Attention Map for Head 0\",\n",
    ")"
   ]
  },
  {
   "cell_type": "code",
   "execution_count": null,
   "metadata": {},
   "outputs": [],
   "source": []
  }
 ],
 "metadata": {
  "kernelspec": {
   "display_name": "neural-layer-analysis",
   "language": "python",
   "name": "python3"
  },
  "language_info": {
   "codemirror_mode": {
    "name": "ipython",
    "version": 3
   },
   "file_extension": ".py",
   "mimetype": "text/x-python",
   "name": "python",
   "nbconvert_exporter": "python",
   "pygments_lexer": "ipython3",
   "version": "3.12.8"
  }
 },
 "nbformat": 4,
 "nbformat_minor": 2
}
>>>>>>> 593d90b ([dev] finish dev)
